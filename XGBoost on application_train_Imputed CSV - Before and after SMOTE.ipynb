{
 "cells": [
  {
   "cell_type": "code",
   "execution_count": 1,
   "metadata": {},
   "outputs": [],
   "source": [
    "import xgboost as xgb\n",
    "import pandas as pd\n",
    "import numpy as np\n",
    "import matplotlib.pyplot as plt\n",
    "%matplotlib inline\n",
    "from xgboost import XGBClassifier\n",
    "from sklearn.model_selection import cross_val_score, StratifiedKFold,train_test_split\n",
    "from sklearn.metrics import classification_report,confusion_matrix\n",
    "from sklearn.metrics import roc_auc_score\n",
    "from imblearn.over_sampling import SMOTE"
   ]
  },
  {
   "cell_type": "markdown",
   "metadata": {},
   "source": [
    "# Used Imputed csv file that has been made by us in imputation_code.csv"
   ]
  },
  {
   "cell_type": "code",
   "execution_count": 2,
   "metadata": {},
   "outputs": [],
   "source": [
    "app_train = pd.read_csv('application_train_imputed.csv')\n",
    "y = app_train['TARGET']"
   ]
  },
  {
   "cell_type": "code",
   "execution_count": 3,
   "metadata": {},
   "outputs": [],
   "source": [
    "X=app_train.drop(['TARGET'],axis=1)\n",
    "X.drop(columns=['Unnamed: 0'],axis=1,inplace=True)\n",
    "# Remove above line of Unnamed: 0 after making changes to application_train_imputed.csv"
   ]
  },
  {
   "cell_type": "code",
   "execution_count": 4,
   "metadata": {},
   "outputs": [
    {
     "data": {
      "text/html": [
       "<div>\n",
       "<style scoped>\n",
       "    .dataframe tbody tr th:only-of-type {\n",
       "        vertical-align: middle;\n",
       "    }\n",
       "\n",
       "    .dataframe tbody tr th {\n",
       "        vertical-align: top;\n",
       "    }\n",
       "\n",
       "    .dataframe thead th {\n",
       "        text-align: right;\n",
       "    }\n",
       "</style>\n",
       "<table border=\"1\" class=\"dataframe\">\n",
       "  <thead>\n",
       "    <tr style=\"text-align: right;\">\n",
       "      <th></th>\n",
       "      <th>FLAG_MOBIL</th>\n",
       "      <th>FLAG_EMP_PHONE</th>\n",
       "      <th>FLAG_WORK_PHONE</th>\n",
       "      <th>FLAG_CONT_MOBILE</th>\n",
       "      <th>FLAG_PHONE</th>\n",
       "      <th>FLAG_EMAIL</th>\n",
       "      <th>REG_REGION_NOT_LIVE_REGION</th>\n",
       "      <th>REG_REGION_NOT_WORK_REGION</th>\n",
       "      <th>LIVE_REGION_NOT_WORK_REGION</th>\n",
       "      <th>REG_CITY_NOT_LIVE_CITY</th>\n",
       "      <th>...</th>\n",
       "      <th>DAYS_ID_PUBLISH</th>\n",
       "      <th>OWN_CAR_AGE</th>\n",
       "      <th>CNT_FAM_MEMBERS</th>\n",
       "      <th>REGION_RATING_CLIENT</th>\n",
       "      <th>REGION_RATING_CLIENT_W_CITY</th>\n",
       "      <th>HOUR_APPR_PROCESS_START</th>\n",
       "      <th>EXT_SOURCE_1</th>\n",
       "      <th>EXT_SOURCE_2</th>\n",
       "      <th>EXT_SOURCE_3</th>\n",
       "      <th>DAYS_LAST_PHONE_CHANGE</th>\n",
       "    </tr>\n",
       "  </thead>\n",
       "  <tbody>\n",
       "    <tr>\n",
       "      <th>0</th>\n",
       "      <td>1.0</td>\n",
       "      <td>1.0</td>\n",
       "      <td>0.0</td>\n",
       "      <td>1.0</td>\n",
       "      <td>1.0</td>\n",
       "      <td>0.0</td>\n",
       "      <td>0.0</td>\n",
       "      <td>0.0</td>\n",
       "      <td>0.0</td>\n",
       "      <td>0.0</td>\n",
       "      <td>...</td>\n",
       "      <td>-2120.0</td>\n",
       "      <td>12.061091</td>\n",
       "      <td>1.0</td>\n",
       "      <td>2.0</td>\n",
       "      <td>2.0</td>\n",
       "      <td>10.0</td>\n",
       "      <td>0.083037</td>\n",
       "      <td>0.262949</td>\n",
       "      <td>0.139376</td>\n",
       "      <td>-1134.0</td>\n",
       "    </tr>\n",
       "    <tr>\n",
       "      <th>1</th>\n",
       "      <td>1.0</td>\n",
       "      <td>1.0</td>\n",
       "      <td>0.0</td>\n",
       "      <td>1.0</td>\n",
       "      <td>1.0</td>\n",
       "      <td>0.0</td>\n",
       "      <td>0.0</td>\n",
       "      <td>0.0</td>\n",
       "      <td>0.0</td>\n",
       "      <td>0.0</td>\n",
       "      <td>...</td>\n",
       "      <td>-291.0</td>\n",
       "      <td>12.061091</td>\n",
       "      <td>2.0</td>\n",
       "      <td>1.0</td>\n",
       "      <td>1.0</td>\n",
       "      <td>11.0</td>\n",
       "      <td>0.311267</td>\n",
       "      <td>0.622246</td>\n",
       "      <td>0.510853</td>\n",
       "      <td>-828.0</td>\n",
       "    </tr>\n",
       "    <tr>\n",
       "      <th>2</th>\n",
       "      <td>1.0</td>\n",
       "      <td>1.0</td>\n",
       "      <td>1.0</td>\n",
       "      <td>1.0</td>\n",
       "      <td>1.0</td>\n",
       "      <td>0.0</td>\n",
       "      <td>0.0</td>\n",
       "      <td>0.0</td>\n",
       "      <td>0.0</td>\n",
       "      <td>0.0</td>\n",
       "      <td>...</td>\n",
       "      <td>-2531.0</td>\n",
       "      <td>26.000000</td>\n",
       "      <td>1.0</td>\n",
       "      <td>2.0</td>\n",
       "      <td>2.0</td>\n",
       "      <td>9.0</td>\n",
       "      <td>0.502130</td>\n",
       "      <td>0.555912</td>\n",
       "      <td>0.729567</td>\n",
       "      <td>-815.0</td>\n",
       "    </tr>\n",
       "    <tr>\n",
       "      <th>3</th>\n",
       "      <td>1.0</td>\n",
       "      <td>1.0</td>\n",
       "      <td>0.0</td>\n",
       "      <td>1.0</td>\n",
       "      <td>0.0</td>\n",
       "      <td>0.0</td>\n",
       "      <td>0.0</td>\n",
       "      <td>0.0</td>\n",
       "      <td>0.0</td>\n",
       "      <td>0.0</td>\n",
       "      <td>...</td>\n",
       "      <td>-2437.0</td>\n",
       "      <td>12.061091</td>\n",
       "      <td>2.0</td>\n",
       "      <td>2.0</td>\n",
       "      <td>2.0</td>\n",
       "      <td>17.0</td>\n",
       "      <td>0.502130</td>\n",
       "      <td>0.650442</td>\n",
       "      <td>0.510853</td>\n",
       "      <td>-617.0</td>\n",
       "    </tr>\n",
       "    <tr>\n",
       "      <th>4</th>\n",
       "      <td>1.0</td>\n",
       "      <td>1.0</td>\n",
       "      <td>0.0</td>\n",
       "      <td>1.0</td>\n",
       "      <td>0.0</td>\n",
       "      <td>0.0</td>\n",
       "      <td>0.0</td>\n",
       "      <td>0.0</td>\n",
       "      <td>0.0</td>\n",
       "      <td>0.0</td>\n",
       "      <td>...</td>\n",
       "      <td>-3458.0</td>\n",
       "      <td>12.061091</td>\n",
       "      <td>1.0</td>\n",
       "      <td>2.0</td>\n",
       "      <td>2.0</td>\n",
       "      <td>11.0</td>\n",
       "      <td>0.502130</td>\n",
       "      <td>0.322738</td>\n",
       "      <td>0.510853</td>\n",
       "      <td>-1106.0</td>\n",
       "    </tr>\n",
       "  </tbody>\n",
       "</table>\n",
       "<p>5 rows × 245 columns</p>\n",
       "</div>"
      ],
      "text/plain": [
       "   FLAG_MOBIL  FLAG_EMP_PHONE  FLAG_WORK_PHONE  FLAG_CONT_MOBILE  FLAG_PHONE  \\\n",
       "0         1.0             1.0              0.0               1.0         1.0   \n",
       "1         1.0             1.0              0.0               1.0         1.0   \n",
       "2         1.0             1.0              1.0               1.0         1.0   \n",
       "3         1.0             1.0              0.0               1.0         0.0   \n",
       "4         1.0             1.0              0.0               1.0         0.0   \n",
       "\n",
       "   FLAG_EMAIL  REG_REGION_NOT_LIVE_REGION  REG_REGION_NOT_WORK_REGION  \\\n",
       "0         0.0                         0.0                         0.0   \n",
       "1         0.0                         0.0                         0.0   \n",
       "2         0.0                         0.0                         0.0   \n",
       "3         0.0                         0.0                         0.0   \n",
       "4         0.0                         0.0                         0.0   \n",
       "\n",
       "   LIVE_REGION_NOT_WORK_REGION  REG_CITY_NOT_LIVE_CITY  \\\n",
       "0                          0.0                     0.0   \n",
       "1                          0.0                     0.0   \n",
       "2                          0.0                     0.0   \n",
       "3                          0.0                     0.0   \n",
       "4                          0.0                     0.0   \n",
       "\n",
       "            ...            DAYS_ID_PUBLISH  OWN_CAR_AGE  CNT_FAM_MEMBERS  \\\n",
       "0           ...                    -2120.0    12.061091              1.0   \n",
       "1           ...                     -291.0    12.061091              2.0   \n",
       "2           ...                    -2531.0    26.000000              1.0   \n",
       "3           ...                    -2437.0    12.061091              2.0   \n",
       "4           ...                    -3458.0    12.061091              1.0   \n",
       "\n",
       "   REGION_RATING_CLIENT  REGION_RATING_CLIENT_W_CITY  HOUR_APPR_PROCESS_START  \\\n",
       "0                   2.0                          2.0                     10.0   \n",
       "1                   1.0                          1.0                     11.0   \n",
       "2                   2.0                          2.0                      9.0   \n",
       "3                   2.0                          2.0                     17.0   \n",
       "4                   2.0                          2.0                     11.0   \n",
       "\n",
       "   EXT_SOURCE_1  EXT_SOURCE_2  EXT_SOURCE_3  DAYS_LAST_PHONE_CHANGE  \n",
       "0      0.083037      0.262949      0.139376                 -1134.0  \n",
       "1      0.311267      0.622246      0.510853                  -828.0  \n",
       "2      0.502130      0.555912      0.729567                  -815.0  \n",
       "3      0.502130      0.650442      0.510853                  -617.0  \n",
       "4      0.502130      0.322738      0.510853                 -1106.0  \n",
       "\n",
       "[5 rows x 245 columns]"
      ]
     },
     "execution_count": 4,
     "metadata": {},
     "output_type": "execute_result"
    }
   ],
   "source": [
    "X.head()"
   ]
  },
  {
   "cell_type": "code",
   "execution_count": 5,
   "metadata": {},
   "outputs": [
    {
     "data": {
      "text/plain": [
       "0    1.0\n",
       "1    0.0\n",
       "2    0.0\n",
       "3    0.0\n",
       "4    0.0\n",
       "Name: TARGET, dtype: float64"
      ]
     },
     "execution_count": 5,
     "metadata": {},
     "output_type": "execute_result"
    }
   ],
   "source": [
    "y.head()"
   ]
  },
  {
   "cell_type": "code",
   "execution_count": null,
   "metadata": {},
   "outputs": [],
   "source": []
  },
  {
   "cell_type": "code",
   "execution_count": 6,
   "metadata": {},
   "outputs": [
    {
     "name": "stdout",
     "output_type": "stream",
     "text": [
      "Postive examples in train set: 226148\n",
      "Negative examples in train set: 19860\n",
      "Postive examples in test set: 56538\n",
      "Negative examples in test set: 4965\n"
     ]
    }
   ],
   "source": [
    "\n",
    "X_train_later, X_test, y_train_later, y_test = train_test_split(X, y, test_size=0.2, stratify=y, random_state=1)\n",
    "print(\"Postive examples in train set: {}\".format(np.sum(y_train_later==0)))\n",
    "print(\"Negative examples in train set: {}\".format(np.sum(y_train_later==1)))\n",
    "\n",
    "print(\"Postive examples in test set: {}\".format(np.sum(y_test==0)))\n",
    "print(\"Negative examples in test set: {}\".format(np.sum(y_test==1)))"
   ]
  },
  {
   "cell_type": "code",
   "execution_count": 7,
   "metadata": {},
   "outputs": [],
   "source": [
    "X_train, X_val, y_train, y_val = train_test_split(X_train_later, y_train_later, test_size=0.2, stratify=y_train_later, random_state=1)\n"
   ]
  },
  {
   "cell_type": "code",
   "execution_count": 8,
   "metadata": {},
   "outputs": [
    {
     "data": {
      "text/plain": [
       "11.387150050352467"
      ]
     },
     "execution_count": 8,
     "metadata": {},
     "output_type": "execute_result"
    }
   ],
   "source": [
    "ratio = (y == 0).sum()/ (y == 1).sum()\n",
    "ratio"
   ]
  },
  {
   "cell_type": "code",
   "execution_count": 9,
   "metadata": {},
   "outputs": [],
   "source": [
    "# hist = xgb.cv(params, dtrain, num_rounds, nfold=10, stratified=True, early_stopping_rounds=10, verbose_eval=True)"
   ]
  },
  {
   "cell_type": "code",
   "execution_count": 10,
   "metadata": {},
   "outputs": [
    {
     "data": {
      "text/plain": [
       "XGBClassifier(base_score=0.5, booster='gbtree', colsample_bylevel=1,\n",
       "       colsample_bytree=1, gamma=0.1, learning_rate=0.1, max_delta_step=0,\n",
       "       max_depth=3, min_child_weight=1, missing=None, n_estimators=190,\n",
       "       n_jobs=1, nthread=None, objective='binary:logistic', random_state=0,\n",
       "       reg_alpha=0, reg_lambda=1, scale_pos_weight=11.387150050352467,\n",
       "       seed=None, silent=True, subsample=0.5)"
      ]
     },
     "execution_count": 10,
     "metadata": {},
     "output_type": "execute_result"
    }
   ],
   "source": [
    "clf1 = XGBClassifier(n_estimators=190, objective='binary:logistic', \n",
    "                    gamma=0.1,subsample=0.5, scale_pos_weight=ratio )\n",
    "clf1.fit(X_train_later, y_train_later)"
   ]
  },
  {
   "cell_type": "code",
   "execution_count": 11,
   "metadata": {},
   "outputs": [
    {
     "name": "stderr",
     "output_type": "stream",
     "text": [
      "C:\\ProgramData\\Anaconda3\\lib\\site-packages\\sklearn\\preprocessing\\label.py:151: DeprecationWarning: The truth value of an empty array is ambiguous. Returning False, but in future this will result in an error. Use `array.size > 0` to check that an array is not empty.\n",
      "  if diff:\n"
     ]
    },
    {
     "data": {
      "text/plain": [
       "0.0    41118\n",
       "1.0    20385\n",
       "Name: 0, dtype: int64"
      ]
     },
     "execution_count": 11,
     "metadata": {},
     "output_type": "execute_result"
    }
   ],
   "source": [
    "y_pred=clf1.predict(X_test)\n",
    "newdf=pd.DataFrame(data=y_pred)\n",
    "newdf.iloc[:,0].value_counts()"
   ]
  },
  {
   "cell_type": "code",
   "execution_count": 12,
   "metadata": {},
   "outputs": [
    {
     "name": "stdout",
     "output_type": "stream",
     "text": [
      "             precision    recall  f1-score   support\n",
      "\n",
      "        0.0       0.96      0.70      0.81     56538\n",
      "        1.0       0.17      0.69      0.27      4965\n",
      "\n",
      "avg / total       0.90      0.70      0.77     61503\n",
      "\n"
     ]
    }
   ],
   "source": [
    "print(classification_report(y_test, y_pred))"
   ]
  },
  {
   "cell_type": "code",
   "execution_count": 13,
   "metadata": {},
   "outputs": [
    {
     "data": {
      "text/plain": [
       "array([[39556, 16982],\n",
       "       [ 1562,  3403]], dtype=int64)"
      ]
     },
     "execution_count": 13,
     "metadata": {},
     "output_type": "execute_result"
    }
   ],
   "source": [
    "confusion_matrix(y_test, y_pred)"
   ]
  },
  {
   "cell_type": "markdown",
   "metadata": {},
   "source": [
    "# Part 2: Used Smote + Part 1"
   ]
  },
  {
   "cell_type": "code",
   "execution_count": 9,
   "metadata": {},
   "outputs": [
    {
     "name": "stderr",
     "output_type": "stream",
     "text": [
      "C:\\ProgramData\\Anaconda3\\lib\\site-packages\\sklearn\\utils\\deprecation.py:77: DeprecationWarning: Function _ratio_float is deprecated; Use a float for 'ratio' is deprecated from version 0.2. The support will be removed in 0.4. Use a dict, str, or a callable instead.\n",
      "  warnings.warn(msg, category=DeprecationWarning)\n"
     ]
    }
   ],
   "source": [
    "sm = SMOTE(random_state=12, ratio = 1.0)\n",
    "X_train_res, y_train_res = sm.fit_sample(X_train_later, y_train_later)"
   ]
  },
  {
   "cell_type": "code",
   "execution_count": 10,
   "metadata": {},
   "outputs": [
    {
     "name": "stdout",
     "output_type": "stream",
     "text": [
      "Postive examples in train set: 226148\n",
      "Negative examples in train set: 226148\n"
     ]
    }
   ],
   "source": [
    "print(\"Postive examples in train set: {}\".format(np.sum(y_train_res==0)))\n",
    "print(\"Negative examples in train set: {}\".format(np.sum(y_train_res==1)))\n"
   ]
  },
  {
   "cell_type": "markdown",
   "metadata": {},
   "source": [
    "### Below code left deliberately with Error so that I can explain Why I renamed columns in Test in 3 rd cell from below to some weird names. Juts that SMOTE creates this types of labels and We have to train on that SMOTE data, I needed to give this types of names just to match feature names and Successfully it worked"
   ]
  },
  {
   "cell_type": "code",
   "execution_count": 11,
   "metadata": {},
   "outputs": [
    {
     "ename": "ValueError",
     "evalue": "feature_names mismatch: ['f0', 'f1', 'f2', 'f3', 'f4', 'f5', 'f6', 'f7', 'f8', 'f9', 'f10', 'f11', 'f12', 'f13', 'f14', 'f15', 'f16', 'f17', 'f18', 'f19', 'f20', 'f21', 'f22', 'f23', 'f24', 'f25', 'f26', 'f27', 'f28', 'f29', 'f30', 'f31', 'f32', 'f33', 'f34', 'f35', 'f36', 'f37', 'f38', 'f39', 'f40', 'f41', 'f42', 'f43', 'f44', 'f45', 'f46', 'f47', 'f48', 'f49', 'f50', 'f51', 'f52', 'f53', 'f54', 'f55', 'f56', 'f57', 'f58', 'f59', 'f60', 'f61', 'f62', 'f63', 'f64', 'f65', 'f66', 'f67', 'f68', 'f69', 'f70', 'f71', 'f72', 'f73', 'f74', 'f75', 'f76', 'f77', 'f78', 'f79', 'f80', 'f81', 'f82', 'f83', 'f84', 'f85', 'f86', 'f87', 'f88', 'f89', 'f90', 'f91', 'f92', 'f93', 'f94', 'f95', 'f96', 'f97', 'f98', 'f99', 'f100', 'f101', 'f102', 'f103', 'f104', 'f105', 'f106', 'f107', 'f108', 'f109', 'f110', 'f111', 'f112', 'f113', 'f114', 'f115', 'f116', 'f117', 'f118', 'f119', 'f120', 'f121', 'f122', 'f123', 'f124', 'f125', 'f126', 'f127', 'f128', 'f129', 'f130', 'f131', 'f132', 'f133', 'f134', 'f135', 'f136', 'f137', 'f138', 'f139', 'f140', 'f141', 'f142', 'f143', 'f144', 'f145', 'f146', 'f147', 'f148', 'f149', 'f150', 'f151', 'f152', 'f153', 'f154', 'f155', 'f156', 'f157', 'f158', 'f159', 'f160', 'f161', 'f162', 'f163', 'f164', 'f165', 'f166', 'f167', 'f168', 'f169', 'f170', 'f171', 'f172', 'f173', 'f174', 'f175', 'f176', 'f177', 'f178', 'f179', 'f180', 'f181', 'f182', 'f183', 'f184', 'f185', 'f186', 'f187', 'f188', 'f189', 'f190', 'f191', 'f192', 'f193', 'f194', 'f195', 'f196', 'f197', 'f198', 'f199', 'f200', 'f201', 'f202', 'f203', 'f204', 'f205', 'f206', 'f207', 'f208', 'f209', 'f210', 'f211', 'f212', 'f213', 'f214', 'f215', 'f216', 'f217', 'f218', 'f219', 'f220', 'f221', 'f222', 'f223', 'f224', 'f225', 'f226', 'f227', 'f228', 'f229', 'f230', 'f231', 'f232', 'f233', 'f234', 'f235', 'f236', 'f237', 'f238', 'f239', 'f240', 'f241', 'f242', 'f243', 'f244'] ['FLAG_MOBIL', 'FLAG_EMP_PHONE', 'FLAG_WORK_PHONE', 'FLAG_CONT_MOBILE', 'FLAG_PHONE', 'FLAG_EMAIL', 'REG_REGION_NOT_LIVE_REGION', 'REG_REGION_NOT_WORK_REGION', 'LIVE_REGION_NOT_WORK_REGION', 'REG_CITY_NOT_LIVE_CITY', 'REG_CITY_NOT_WORK_CITY', 'LIVE_CITY_NOT_WORK_CITY', 'APARTMENTS_AVG', 'BASEMENTAREA_AVG', 'YEARS_BEGINEXPLUATATION_AVG', 'YEARS_BUILD_AVG', 'COMMONAREA_AVG', 'ELEVATORS_AVG', 'ENTRANCES_AVG', 'FLOORSMAX_AVG', 'FLOORSMIN_AVG', 'LANDAREA_AVG', 'LIVINGAPARTMENTS_AVG', 'LIVINGAREA_AVG', 'NONLIVINGAPARTMENTS_AVG', 'NONLIVINGAREA_AVG', 'APARTMENTS_MODE', 'BASEMENTAREA_MODE', 'YEARS_BEGINEXPLUATATION_MODE', 'YEARS_BUILD_MODE', 'COMMONAREA_MODE', 'ELEVATORS_MODE', 'ENTRANCES_MODE', 'FLOORSMAX_MODE', 'FLOORSMIN_MODE', 'LANDAREA_MODE', 'LIVINGAPARTMENTS_MODE', 'LIVINGAREA_MODE', 'NONLIVINGAPARTMENTS_MODE', 'NONLIVINGAREA_MODE', 'APARTMENTS_MEDI', 'BASEMENTAREA_MEDI', 'YEARS_BEGINEXPLUATATION_MEDI', 'YEARS_BUILD_MEDI', 'COMMONAREA_MEDI', 'ELEVATORS_MEDI', 'ENTRANCES_MEDI', 'FLOORSMAX_MEDI', 'FLOORSMIN_MEDI', 'LANDAREA_MEDI', 'LIVINGAPARTMENTS_MEDI', 'LIVINGAREA_MEDI', 'NONLIVINGAPARTMENTS_MEDI', 'NONLIVINGAREA_MEDI', 'TOTALAREA_MODE', 'FLAG_DOCUMENT_2', 'FLAG_DOCUMENT_3', 'FLAG_DOCUMENT_4', 'FLAG_DOCUMENT_5', 'FLAG_DOCUMENT_6', 'FLAG_DOCUMENT_7', 'FLAG_DOCUMENT_8', 'FLAG_DOCUMENT_9', 'FLAG_DOCUMENT_10', 'FLAG_DOCUMENT_11', 'FLAG_DOCUMENT_12', 'FLAG_DOCUMENT_13', 'FLAG_DOCUMENT_14', 'FLAG_DOCUMENT_15', 'FLAG_DOCUMENT_16', 'FLAG_DOCUMENT_17', 'FLAG_DOCUMENT_18', 'FLAG_DOCUMENT_19', 'FLAG_DOCUMENT_20', 'FLAG_DOCUMENT_21', 'NAME_CONTRACT_TYPE_Cash loans', 'NAME_CONTRACT_TYPE_Revolving loans', 'CODE_GENDER_F', 'CODE_GENDER_M', 'CODE_GENDER_XNA', 'FLAG_OWN_CAR_N', 'FLAG_OWN_CAR_Y', 'FLAG_OWN_REALTY_N', 'FLAG_OWN_REALTY_Y', 'NAME_TYPE_SUITE_Children', 'NAME_TYPE_SUITE_Family', 'NAME_TYPE_SUITE_Group of people', 'NAME_TYPE_SUITE_Other_A', 'NAME_TYPE_SUITE_Other_B', 'NAME_TYPE_SUITE_Spouse, partner', 'NAME_TYPE_SUITE_Unaccompanied', 'NAME_INCOME_TYPE_Businessman', 'NAME_INCOME_TYPE_Commercial associate', 'NAME_INCOME_TYPE_Maternity leave', 'NAME_INCOME_TYPE_Pensioner', 'NAME_INCOME_TYPE_State servant', 'NAME_INCOME_TYPE_Student', 'NAME_INCOME_TYPE_Unemployed', 'NAME_INCOME_TYPE_Working', 'NAME_EDUCATION_TYPE_Academic degree', 'NAME_EDUCATION_TYPE_Higher education', 'NAME_EDUCATION_TYPE_Incomplete higher', 'NAME_EDUCATION_TYPE_Lower secondary', 'NAME_EDUCATION_TYPE_Secondary / secondary special', 'NAME_FAMILY_STATUS_Civil marriage', 'NAME_FAMILY_STATUS_Married', 'NAME_FAMILY_STATUS_Separated', 'NAME_FAMILY_STATUS_Single / not married', 'NAME_FAMILY_STATUS_Unknown', 'NAME_FAMILY_STATUS_Widow', 'NAME_HOUSING_TYPE_Co-op apartment', 'NAME_HOUSING_TYPE_House / apartment', 'NAME_HOUSING_TYPE_Municipal apartment', 'NAME_HOUSING_TYPE_Office apartment', 'NAME_HOUSING_TYPE_Rented apartment', 'NAME_HOUSING_TYPE_With parents', 'OCCUPATION_TYPE_Accountants', 'OCCUPATION_TYPE_Cleaning staff', 'OCCUPATION_TYPE_Cooking staff', 'OCCUPATION_TYPE_Core staff', 'OCCUPATION_TYPE_Drivers', 'OCCUPATION_TYPE_HR staff', 'OCCUPATION_TYPE_High skill tech staff', 'OCCUPATION_TYPE_IT staff', 'OCCUPATION_TYPE_Laborers', 'OCCUPATION_TYPE_Low-skill Laborers', 'OCCUPATION_TYPE_Managers', 'OCCUPATION_TYPE_Medicine staff', 'OCCUPATION_TYPE_Private service staff', 'OCCUPATION_TYPE_Realty agents', 'OCCUPATION_TYPE_Sales staff', 'OCCUPATION_TYPE_Secretaries', 'OCCUPATION_TYPE_Security staff', 'OCCUPATION_TYPE_Waiters/barmen staff', 'WEEKDAY_APPR_PROCESS_START_FRIDAY', 'WEEKDAY_APPR_PROCESS_START_MONDAY', 'WEEKDAY_APPR_PROCESS_START_SATURDAY', 'WEEKDAY_APPR_PROCESS_START_SUNDAY', 'WEEKDAY_APPR_PROCESS_START_THURSDAY', 'WEEKDAY_APPR_PROCESS_START_TUESDAY', 'WEEKDAY_APPR_PROCESS_START_WEDNESDAY', 'ORGANIZATION_TYPE_Advertising', 'ORGANIZATION_TYPE_Agriculture', 'ORGANIZATION_TYPE_Bank', 'ORGANIZATION_TYPE_Business Entity Type 1', 'ORGANIZATION_TYPE_Business Entity Type 2', 'ORGANIZATION_TYPE_Business Entity Type 3', 'ORGANIZATION_TYPE_Cleaning', 'ORGANIZATION_TYPE_Construction', 'ORGANIZATION_TYPE_Culture', 'ORGANIZATION_TYPE_Electricity', 'ORGANIZATION_TYPE_Emergency', 'ORGANIZATION_TYPE_Government', 'ORGANIZATION_TYPE_Hotel', 'ORGANIZATION_TYPE_Housing', 'ORGANIZATION_TYPE_Industry: type 1', 'ORGANIZATION_TYPE_Industry: type 10', 'ORGANIZATION_TYPE_Industry: type 11', 'ORGANIZATION_TYPE_Industry: type 12', 'ORGANIZATION_TYPE_Industry: type 13', 'ORGANIZATION_TYPE_Industry: type 2', 'ORGANIZATION_TYPE_Industry: type 3', 'ORGANIZATION_TYPE_Industry: type 4', 'ORGANIZATION_TYPE_Industry: type 5', 'ORGANIZATION_TYPE_Industry: type 6', 'ORGANIZATION_TYPE_Industry: type 7', 'ORGANIZATION_TYPE_Industry: type 8', 'ORGANIZATION_TYPE_Industry: type 9', 'ORGANIZATION_TYPE_Insurance', 'ORGANIZATION_TYPE_Kindergarten', 'ORGANIZATION_TYPE_Legal Services', 'ORGANIZATION_TYPE_Medicine', 'ORGANIZATION_TYPE_Military', 'ORGANIZATION_TYPE_Mobile', 'ORGANIZATION_TYPE_Other', 'ORGANIZATION_TYPE_Police', 'ORGANIZATION_TYPE_Postal', 'ORGANIZATION_TYPE_Realtor', 'ORGANIZATION_TYPE_Religion', 'ORGANIZATION_TYPE_Restaurant', 'ORGANIZATION_TYPE_School', 'ORGANIZATION_TYPE_Security', 'ORGANIZATION_TYPE_Security Ministries', 'ORGANIZATION_TYPE_Self-employed', 'ORGANIZATION_TYPE_Services', 'ORGANIZATION_TYPE_Telecom', 'ORGANIZATION_TYPE_Trade: type 1', 'ORGANIZATION_TYPE_Trade: type 2', 'ORGANIZATION_TYPE_Trade: type 3', 'ORGANIZATION_TYPE_Trade: type 4', 'ORGANIZATION_TYPE_Trade: type 5', 'ORGANIZATION_TYPE_Trade: type 6', 'ORGANIZATION_TYPE_Trade: type 7', 'ORGANIZATION_TYPE_Transport: type 1', 'ORGANIZATION_TYPE_Transport: type 2', 'ORGANIZATION_TYPE_Transport: type 3', 'ORGANIZATION_TYPE_Transport: type 4', 'ORGANIZATION_TYPE_University', 'ORGANIZATION_TYPE_XNA', 'FONDKAPREMONT_MODE_not specified', 'FONDKAPREMONT_MODE_org spec account', 'FONDKAPREMONT_MODE_reg oper account', 'FONDKAPREMONT_MODE_reg oper spec account', 'HOUSETYPE_MODE_block of flats', 'HOUSETYPE_MODE_specific housing', 'HOUSETYPE_MODE_terraced house', 'WALLSMATERIAL_MODE_Block', 'WALLSMATERIAL_MODE_Mixed', 'WALLSMATERIAL_MODE_Monolithic', 'WALLSMATERIAL_MODE_Others', 'WALLSMATERIAL_MODE_Panel', 'WALLSMATERIAL_MODE_Stone, brick', 'WALLSMATERIAL_MODE_Wooden', 'EMERGENCYSTATE_MODE_No', 'EMERGENCYSTATE_MODE_Yes', 'OBS_30_CNT_SOCIAL_CIRCLE', 'DEF_30_CNT_SOCIAL_CIRCLE', 'OBS_60_CNT_SOCIAL_CIRCLE', 'DEF_60_CNT_SOCIAL_CIRCLE', 'AMT_REQ_CREDIT_BUREAU_HOUR', 'AMT_REQ_CREDIT_BUREAU_DAY', 'AMT_REQ_CREDIT_BUREAU_WEEK', 'AMT_REQ_CREDIT_BUREAU_MON', 'AMT_REQ_CREDIT_BUREAU_QRT', 'AMT_REQ_CREDIT_BUREAU_YEAR', 'SK_ID_CURR', 'CNT_CHILDREN', 'AMT_INCOME_TOTAL', 'AMT_CREDIT', 'AMT_ANNUITY', 'AMT_GOODS_PRICE', 'REGION_POPULATION_RELATIVE', 'DAYS_BIRTH', 'DAYS_EMPLOYED', 'DAYS_REGISTRATION', 'DAYS_ID_PUBLISH', 'OWN_CAR_AGE', 'CNT_FAM_MEMBERS', 'REGION_RATING_CLIENT', 'REGION_RATING_CLIENT_W_CITY', 'HOUR_APPR_PROCESS_START', 'EXT_SOURCE_1', 'EXT_SOURCE_2', 'EXT_SOURCE_3', 'DAYS_LAST_PHONE_CHANGE']\nexpected f173, f8, f67, f40, f102, f4, f210, f23, f132, f227, f42, f229, f21, f196, f226, f225, f5, f167, f72, f147, f131, f203, f62, f197, f163, f215, f146, f178, f120, f213, f117, f151, f174, f181, f53, f82, f115, f54, f64, f84, f14, f166, f19, f81, f41, f57, f186, f63, f27, f134, f68, f192, f158, f60, f148, f77, f45, f183, f165, f238, f172, f135, f17, f156, f58, f188, f136, f89, f144, f94, f78, f211, f9, f176, f234, f235, f80, f13, f104, f124, f107, f182, f153, f28, f2, f46, f75, f180, f36, f175, f242, f55, f193, f108, f50, f189, f243, f141, f38, f110, f217, f198, f205, f33, f119, f160, f85, f209, f224, f190, f92, f121, f76, f44, f18, f206, f43, f29, f26, f100, f208, f161, f56, f95, f143, f170, f214, f111, f126, f34, f169, f171, f112, f16, f222, f157, f66, f70, f74, f154, f219, f87, f118, f128, f239, f204, f47, f97, f20, f142, f240, f130, f149, f152, f228, f6, f138, f191, f194, f201, f24, f202, f52, f218, f237, f59, f195, f11, f65, f125, f177, f10, f71, f88, f164, f216, f12, f35, f230, f39, f145, f96, f73, f122, f162, f79, f221, f101, f127, f185, f30, f244, f212, f184, f98, f0, f93, f83, f232, f116, f113, f220, f32, f86, f106, f168, f223, f123, f241, f49, f109, f200, f236, f15, f99, f37, f233, f69, f105, f7, f91, f179, f114, f137, f3, f1, f139, f25, f207, f150, f155, f199, f48, f129, f159, f187, f133, f140, f51, f231, f22, f31, f61, f103, f90 in input data\ntraining data did not have the following fields: WALLSMATERIAL_MODE_Wooden, FLAG_EMP_PHONE, ENTRANCES_AVG, FLOORSMIN_AVG, YEARS_BEGINEXPLUATATION_AVG, FLOORSMIN_MEDI, FLAG_DOCUMENT_2, FLAG_DOCUMENT_14, FLAG_WORK_PHONE, CODE_GENDER_F, LANDAREA_MODE, ORGANIZATION_TYPE_Medicine, ORGANIZATION_TYPE_Housing, NAME_FAMILY_STATUS_Single / not married, FONDKAPREMONT_MODE_not specified, ORGANIZATION_TYPE_Hotel, ORGANIZATION_TYPE_Government, BASEMENTAREA_MODE, EMERGENCYSTATE_MODE_Yes, YEARS_BUILD_MEDI, NAME_INCOME_TYPE_Working, LIVE_REGION_NOT_WORK_REGION, CNT_FAM_MEMBERS, FLAG_MOBIL, ORGANIZATION_TYPE_University, ORGANIZATION_TYPE_Industry: type 11, ORGANIZATION_TYPE_Trade: type 4, DAYS_EMPLOYED, WALLSMATERIAL_MODE_Mixed, ORGANIZATION_TYPE_Emergency, AMT_REQ_CREDIT_BUREAU_MON, AMT_GOODS_PRICE, ORGANIZATION_TYPE_Legal Services, OCCUPATION_TYPE_Laborers, FLAG_DOCUMENT_5, ORGANIZATION_TYPE_Industry: type 9, BASEMENTAREA_MEDI, NONLIVINGAPARTMENTS_MEDI, NAME_INCOME_TYPE_Maternity leave, DEF_30_CNT_SOCIAL_CIRCLE, APARTMENTS_MODE, AMT_CREDIT, ORGANIZATION_TYPE_Trade: type 6, NAME_TYPE_SUITE_Other_A, OCCUPATION_TYPE_Secretaries, FLAG_OWN_CAR_N, ORGANIZATION_TYPE_Industry: type 5, APARTMENTS_AVG, FLAG_DOCUMENT_4, ORGANIZATION_TYPE_Industry: type 7, ORGANIZATION_TYPE_Police, NAME_INCOME_TYPE_State servant, ORGANIZATION_TYPE_Mobile, ORGANIZATION_TYPE_XNA, DAYS_REGISTRATION, FLAG_DOCUMENT_15, WEEKDAY_APPR_PROCESS_START_FRIDAY, ORGANIZATION_TYPE_Military, BASEMENTAREA_AVG, NAME_EDUCATION_TYPE_Lower secondary, CODE_GENDER_XNA, NONLIVINGAREA_AVG, OCCUPATION_TYPE_Private service staff, AMT_REQ_CREDIT_BUREAU_HOUR, WEEKDAY_APPR_PROCESS_START_THURSDAY, ORGANIZATION_TYPE_Business Entity Type 3, LIVINGAPARTMENTS_AVG, FLOORSMAX_MEDI, WEEKDAY_APPR_PROCESS_START_MONDAY, NAME_FAMILY_STATUS_Married, FLOORSMAX_MODE, NAME_CONTRACT_TYPE_Cash loans, CNT_CHILDREN, NAME_FAMILY_STATUS_Widow, LIVINGAREA_MODE, FLAG_OWN_REALTY_Y, FLAG_DOCUMENT_18, FLAG_DOCUMENT_17, ORGANIZATION_TYPE_Telecom, FLAG_DOCUMENT_21, EMERGENCYSTATE_MODE_No, FLAG_OWN_CAR_Y, COMMONAREA_MEDI, FLAG_DOCUMENT_10, ORGANIZATION_TYPE_Culture, NAME_INCOME_TYPE_Businessman, FLAG_DOCUMENT_6, ELEVATORS_MEDI, NAME_TYPE_SUITE_Children, NAME_HOUSING_TYPE_Co-op apartment, REG_CITY_NOT_LIVE_CITY, NAME_EDUCATION_TYPE_Higher education, COMMONAREA_MODE, OCCUPATION_TYPE_High skill tech staff, WEEKDAY_APPR_PROCESS_START_SATURDAY, LIVINGAPARTMENTS_MEDI, HOUSETYPE_MODE_block of flats, FLAG_EMAIL, FLAG_DOCUMENT_13, FLAG_DOCUMENT_9, NAME_HOUSING_TYPE_House / apartment, NAME_FAMILY_STATUS_Separated, NAME_HOUSING_TYPE_Municipal apartment, ORGANIZATION_TYPE_Self-employed, ORGANIZATION_TYPE_Industry: type 6, OCCUPATION_TYPE_Sales staff, YEARS_BUILD_MODE, NAME_INCOME_TYPE_Pensioner, ORGANIZATION_TYPE_Industry: type 13, OBS_60_CNT_SOCIAL_CIRCLE, FLAG_DOCUMENT_7, LANDAREA_MEDI, OCCUPATION_TYPE_Security staff, ELEVATORS_MODE, ORGANIZATION_TYPE_Industry: type 4, APARTMENTS_MEDI, OWN_CAR_AGE, NAME_TYPE_SUITE_Other_B, ORGANIZATION_TYPE_Trade: type 1, NAME_TYPE_SUITE_Unaccompanied, NAME_INCOME_TYPE_Commercial associate, HOUSETYPE_MODE_specific housing, OCCUPATION_TYPE_Waiters/barmen staff, ORGANIZATION_TYPE_Industry: type 2, REGION_POPULATION_RELATIVE, DAYS_LAST_PHONE_CHANGE, LIVINGAREA_MEDI, COMMONAREA_AVG, WALLSMATERIAL_MODE_Block, EXT_SOURCE_1, NONLIVINGAPARTMENTS_AVG, ORGANIZATION_TYPE_Postal, ORGANIZATION_TYPE_Transport: type 3, ORGANIZATION_TYPE_Security Ministries, FLAG_DOCUMENT_11, FLOORSMIN_MODE, ORGANIZATION_TYPE_Kindergarten, HOUSETYPE_MODE_terraced house, NAME_HOUSING_TYPE_Office apartment, WEEKDAY_APPR_PROCESS_START_WEDNESDAY, LIVINGAREA_AVG, OCCUPATION_TYPE_Realty agents, ORGANIZATION_TYPE_Transport: type 1, ORGANIZATION_TYPE_Bank, OCCUPATION_TYPE_Managers, OCCUPATION_TYPE_Drivers, YEARS_BUILD_AVG, ORGANIZATION_TYPE_Trade: type 7, NAME_HOUSING_TYPE_Rented apartment, REGION_RATING_CLIENT, ORGANIZATION_TYPE_Restaurant, OBS_30_CNT_SOCIAL_CIRCLE, LANDAREA_AVG, ORGANIZATION_TYPE_Services, OCCUPATION_TYPE_Cleaning staff, WALLSMATERIAL_MODE_Stone, brick, ELEVATORS_AVG, AMT_INCOME_TOTAL, FLAG_DOCUMENT_8, ORGANIZATION_TYPE_Trade: type 5, FLAG_DOCUMENT_19, SK_ID_CURR, ORGANIZATION_TYPE_Industry: type 12, FLAG_DOCUMENT_3, FONDKAPREMONT_MODE_reg oper account, NAME_EDUCATION_TYPE_Secondary / secondary special, WALLSMATERIAL_MODE_Others, ENTRANCES_MODE, WALLSMATERIAL_MODE_Panel, FLAG_PHONE, AMT_REQ_CREDIT_BUREAU_YEAR, NONLIVINGAPARTMENTS_MODE, NONLIVINGAREA_MEDI, FLAG_CONT_MOBILE, WEEKDAY_APPR_PROCESS_START_TUESDAY, ORGANIZATION_TYPE_Advertising, ORGANIZATION_TYPE_Industry: type 10, ORGANIZATION_TYPE_Industry: type 3, ORGANIZATION_TYPE_Transport: type 2, FLAG_DOCUMENT_16, ORGANIZATION_TYPE_School, FONDKAPREMONT_MODE_reg oper spec account, ENTRANCES_MEDI, WEEKDAY_APPR_PROCESS_START_SUNDAY, DAYS_ID_PUBLISH, EXT_SOURCE_2, ORGANIZATION_TYPE_Business Entity Type 1, WALLSMATERIAL_MODE_Monolithic, FLAG_DOCUMENT_12, AMT_REQ_CREDIT_BUREAU_WEEK, OCCUPATION_TYPE_HR staff, ORGANIZATION_TYPE_Insurance, AMT_ANNUITY, NONLIVINGAREA_MODE, NAME_HOUSING_TYPE_With parents, ORGANIZATION_TYPE_Realtor, ORGANIZATION_TYPE_Industry: type 8, REG_REGION_NOT_WORK_REGION, REGION_RATING_CLIENT_W_CITY, ORGANIZATION_TYPE_Agriculture, ORGANIZATION_TYPE_Religion, NAME_EDUCATION_TYPE_Incomplete higher, NAME_TYPE_SUITE_Family, OCCUPATION_TYPE_IT staff, NAME_FAMILY_STATUS_Unknown, NAME_EDUCATION_TYPE_Academic degree, FLAG_OWN_REALTY_N, CODE_GENDER_M, FLAG_DOCUMENT_20, NAME_TYPE_SUITE_Group of people, AMT_REQ_CREDIT_BUREAU_QRT, NAME_INCOME_TYPE_Student, OCCUPATION_TYPE_Core staff, NAME_FAMILY_STATUS_Civil marriage, EXT_SOURCE_3, REG_REGION_NOT_LIVE_REGION, ORGANIZATION_TYPE_Construction, YEARS_BEGINEXPLUATATION_MODE, NAME_CONTRACT_TYPE_Revolving loans, YEARS_BEGINEXPLUATATION_MEDI, ORGANIZATION_TYPE_Trade: type 2, DEF_60_CNT_SOCIAL_CIRCLE, HOUR_APPR_PROCESS_START, ORGANIZATION_TYPE_Industry: type 1, AMT_REQ_CREDIT_BUREAU_DAY, REG_CITY_NOT_WORK_CITY, ORGANIZATION_TYPE_Business Entity Type 2, ORGANIZATION_TYPE_Cleaning, OCCUPATION_TYPE_Medicine staff, ORGANIZATION_TYPE_Electricity, ORGANIZATION_TYPE_Security, OCCUPATION_TYPE_Cooking staff, OCCUPATION_TYPE_Accountants, LIVE_CITY_NOT_WORK_CITY, ORGANIZATION_TYPE_Other, DAYS_BIRTH, FLOORSMAX_AVG, NAME_TYPE_SUITE_Spouse, partner, LIVINGAPARTMENTS_MODE, OCCUPATION_TYPE_Low-skill Laborers, ORGANIZATION_TYPE_Trade: type 3, FONDKAPREMONT_MODE_org spec account, TOTALAREA_MODE, ORGANIZATION_TYPE_Transport: type 4, NAME_INCOME_TYPE_Unemployed",
     "output_type": "error",
     "traceback": [
      "\u001b[1;31m---------------------------------------------------------------------------\u001b[0m",
      "\u001b[1;31mValueError\u001b[0m                                Traceback (most recent call last)",
      "\u001b[1;32m<ipython-input-11-3dd5424b6250>\u001b[0m in \u001b[0;36m<module>\u001b[1;34m()\u001b[0m\n\u001b[0;32m      2\u001b[0m                     gamma=0.1,subsample=0.5, scale_pos_weight=ratio )\n\u001b[0;32m      3\u001b[0m \u001b[0mclf2\u001b[0m\u001b[1;33m.\u001b[0m\u001b[0mfit\u001b[0m\u001b[1;33m(\u001b[0m\u001b[0mX_train_res\u001b[0m\u001b[1;33m,\u001b[0m\u001b[0my_train_res\u001b[0m\u001b[1;33m)\u001b[0m\u001b[1;33m\u001b[0m\u001b[0m\n\u001b[1;32m----> 4\u001b[1;33m \u001b[0my_pred\u001b[0m\u001b[1;33m=\u001b[0m\u001b[0mclf2\u001b[0m\u001b[1;33m.\u001b[0m\u001b[0mpredict\u001b[0m\u001b[1;33m(\u001b[0m\u001b[0mX_test\u001b[0m\u001b[1;33m)\u001b[0m\u001b[1;33m\u001b[0m\u001b[0m\n\u001b[0m",
      "\u001b[1;32mC:\\ProgramData\\Anaconda3\\lib\\site-packages\\xgboost\\sklearn.py\u001b[0m in \u001b[0;36mpredict\u001b[1;34m(self, data, output_margin, ntree_limit, validate_features)\u001b[0m\n\u001b[0;32m    757\u001b[0m                                                  \u001b[0moutput_margin\u001b[0m\u001b[1;33m=\u001b[0m\u001b[0moutput_margin\u001b[0m\u001b[1;33m,\u001b[0m\u001b[1;33m\u001b[0m\u001b[0m\n\u001b[0;32m    758\u001b[0m                                                  \u001b[0mntree_limit\u001b[0m\u001b[1;33m=\u001b[0m\u001b[0mntree_limit\u001b[0m\u001b[1;33m,\u001b[0m\u001b[1;33m\u001b[0m\u001b[0m\n\u001b[1;32m--> 759\u001b[1;33m                                                  validate_features=validate_features)\n\u001b[0m\u001b[0;32m    760\u001b[0m         \u001b[1;32mif\u001b[0m \u001b[0moutput_margin\u001b[0m\u001b[1;33m:\u001b[0m\u001b[1;33m\u001b[0m\u001b[0m\n\u001b[0;32m    761\u001b[0m             \u001b[1;31m# If output_margin is active, simply return the scores\u001b[0m\u001b[1;33m\u001b[0m\u001b[1;33m\u001b[0m\u001b[0m\n",
      "\u001b[1;32mC:\\ProgramData\\Anaconda3\\lib\\site-packages\\xgboost\\core.py\u001b[0m in \u001b[0;36mpredict\u001b[1;34m(self, data, output_margin, ntree_limit, pred_leaf, pred_contribs, approx_contribs, pred_interactions, validate_features)\u001b[0m\n\u001b[0;32m   1216\u001b[0m \u001b[1;33m\u001b[0m\u001b[0m\n\u001b[0;32m   1217\u001b[0m         \u001b[1;32mif\u001b[0m \u001b[0mvalidate_features\u001b[0m\u001b[1;33m:\u001b[0m\u001b[1;33m\u001b[0m\u001b[0m\n\u001b[1;32m-> 1218\u001b[1;33m             \u001b[0mself\u001b[0m\u001b[1;33m.\u001b[0m\u001b[0m_validate_features\u001b[0m\u001b[1;33m(\u001b[0m\u001b[0mdata\u001b[0m\u001b[1;33m)\u001b[0m\u001b[1;33m\u001b[0m\u001b[0m\n\u001b[0m\u001b[0;32m   1219\u001b[0m \u001b[1;33m\u001b[0m\u001b[0m\n\u001b[0;32m   1220\u001b[0m         \u001b[0mlength\u001b[0m \u001b[1;33m=\u001b[0m \u001b[0mc_bst_ulong\u001b[0m\u001b[1;33m(\u001b[0m\u001b[1;33m)\u001b[0m\u001b[1;33m\u001b[0m\u001b[0m\n",
      "\u001b[1;32mC:\\ProgramData\\Anaconda3\\lib\\site-packages\\xgboost\\core.py\u001b[0m in \u001b[0;36m_validate_features\u001b[1;34m(self, data)\u001b[0m\n\u001b[0;32m   1539\u001b[0m \u001b[1;33m\u001b[0m\u001b[0m\n\u001b[0;32m   1540\u001b[0m                 raise ValueError(msg.format(self.feature_names,\n\u001b[1;32m-> 1541\u001b[1;33m                                             data.feature_names))\n\u001b[0m\u001b[0;32m   1542\u001b[0m \u001b[1;33m\u001b[0m\u001b[0m\n\u001b[0;32m   1543\u001b[0m     \u001b[1;32mdef\u001b[0m \u001b[0mget_split_value_histogram\u001b[0m\u001b[1;33m(\u001b[0m\u001b[0mself\u001b[0m\u001b[1;33m,\u001b[0m \u001b[0mfeature\u001b[0m\u001b[1;33m,\u001b[0m \u001b[0mfmap\u001b[0m\u001b[1;33m=\u001b[0m\u001b[1;34m''\u001b[0m\u001b[1;33m,\u001b[0m \u001b[0mbins\u001b[0m\u001b[1;33m=\u001b[0m\u001b[1;32mNone\u001b[0m\u001b[1;33m,\u001b[0m \u001b[0mas_pandas\u001b[0m\u001b[1;33m=\u001b[0m\u001b[1;32mTrue\u001b[0m\u001b[1;33m)\u001b[0m\u001b[1;33m:\u001b[0m\u001b[1;33m\u001b[0m\u001b[0m\n",
      "\u001b[1;31mValueError\u001b[0m: feature_names mismatch: ['f0', 'f1', 'f2', 'f3', 'f4', 'f5', 'f6', 'f7', 'f8', 'f9', 'f10', 'f11', 'f12', 'f13', 'f14', 'f15', 'f16', 'f17', 'f18', 'f19', 'f20', 'f21', 'f22', 'f23', 'f24', 'f25', 'f26', 'f27', 'f28', 'f29', 'f30', 'f31', 'f32', 'f33', 'f34', 'f35', 'f36', 'f37', 'f38', 'f39', 'f40', 'f41', 'f42', 'f43', 'f44', 'f45', 'f46', 'f47', 'f48', 'f49', 'f50', 'f51', 'f52', 'f53', 'f54', 'f55', 'f56', 'f57', 'f58', 'f59', 'f60', 'f61', 'f62', 'f63', 'f64', 'f65', 'f66', 'f67', 'f68', 'f69', 'f70', 'f71', 'f72', 'f73', 'f74', 'f75', 'f76', 'f77', 'f78', 'f79', 'f80', 'f81', 'f82', 'f83', 'f84', 'f85', 'f86', 'f87', 'f88', 'f89', 'f90', 'f91', 'f92', 'f93', 'f94', 'f95', 'f96', 'f97', 'f98', 'f99', 'f100', 'f101', 'f102', 'f103', 'f104', 'f105', 'f106', 'f107', 'f108', 'f109', 'f110', 'f111', 'f112', 'f113', 'f114', 'f115', 'f116', 'f117', 'f118', 'f119', 'f120', 'f121', 'f122', 'f123', 'f124', 'f125', 'f126', 'f127', 'f128', 'f129', 'f130', 'f131', 'f132', 'f133', 'f134', 'f135', 'f136', 'f137', 'f138', 'f139', 'f140', 'f141', 'f142', 'f143', 'f144', 'f145', 'f146', 'f147', 'f148', 'f149', 'f150', 'f151', 'f152', 'f153', 'f154', 'f155', 'f156', 'f157', 'f158', 'f159', 'f160', 'f161', 'f162', 'f163', 'f164', 'f165', 'f166', 'f167', 'f168', 'f169', 'f170', 'f171', 'f172', 'f173', 'f174', 'f175', 'f176', 'f177', 'f178', 'f179', 'f180', 'f181', 'f182', 'f183', 'f184', 'f185', 'f186', 'f187', 'f188', 'f189', 'f190', 'f191', 'f192', 'f193', 'f194', 'f195', 'f196', 'f197', 'f198', 'f199', 'f200', 'f201', 'f202', 'f203', 'f204', 'f205', 'f206', 'f207', 'f208', 'f209', 'f210', 'f211', 'f212', 'f213', 'f214', 'f215', 'f216', 'f217', 'f218', 'f219', 'f220', 'f221', 'f222', 'f223', 'f224', 'f225', 'f226', 'f227', 'f228', 'f229', 'f230', 'f231', 'f232', 'f233', 'f234', 'f235', 'f236', 'f237', 'f238', 'f239', 'f240', 'f241', 'f242', 'f243', 'f244'] ['FLAG_MOBIL', 'FLAG_EMP_PHONE', 'FLAG_WORK_PHONE', 'FLAG_CONT_MOBILE', 'FLAG_PHONE', 'FLAG_EMAIL', 'REG_REGION_NOT_LIVE_REGION', 'REG_REGION_NOT_WORK_REGION', 'LIVE_REGION_NOT_WORK_REGION', 'REG_CITY_NOT_LIVE_CITY', 'REG_CITY_NOT_WORK_CITY', 'LIVE_CITY_NOT_WORK_CITY', 'APARTMENTS_AVG', 'BASEMENTAREA_AVG', 'YEARS_BEGINEXPLUATATION_AVG', 'YEARS_BUILD_AVG', 'COMMONAREA_AVG', 'ELEVATORS_AVG', 'ENTRANCES_AVG', 'FLOORSMAX_AVG', 'FLOORSMIN_AVG', 'LANDAREA_AVG', 'LIVINGAPARTMENTS_AVG', 'LIVINGAREA_AVG', 'NONLIVINGAPARTMENTS_AVG', 'NONLIVINGAREA_AVG', 'APARTMENTS_MODE', 'BASEMENTAREA_MODE', 'YEARS_BEGINEXPLUATATION_MODE', 'YEARS_BUILD_MODE', 'COMMONAREA_MODE', 'ELEVATORS_MODE', 'ENTRANCES_MODE', 'FLOORSMAX_MODE', 'FLOORSMIN_MODE', 'LANDAREA_MODE', 'LIVINGAPARTMENTS_MODE', 'LIVINGAREA_MODE', 'NONLIVINGAPARTMENTS_MODE', 'NONLIVINGAREA_MODE', 'APARTMENTS_MEDI', 'BASEMENTAREA_MEDI', 'YEARS_BEGINEXPLUATATION_MEDI', 'YEARS_BUILD_MEDI', 'COMMONAREA_MEDI', 'ELEVATORS_MEDI', 'ENTRANCES_MEDI', 'FLOORSMAX_MEDI', 'FLOORSMIN_MEDI', 'LANDAREA_MEDI', 'LIVINGAPARTMENTS_MEDI', 'LIVINGAREA_MEDI', 'NONLIVINGAPARTMENTS_MEDI', 'NONLIVINGAREA_MEDI', 'TOTALAREA_MODE', 'FLAG_DOCUMENT_2', 'FLAG_DOCUMENT_3', 'FLAG_DOCUMENT_4', 'FLAG_DOCUMENT_5', 'FLAG_DOCUMENT_6', 'FLAG_DOCUMENT_7', 'FLAG_DOCUMENT_8', 'FLAG_DOCUMENT_9', 'FLAG_DOCUMENT_10', 'FLAG_DOCUMENT_11', 'FLAG_DOCUMENT_12', 'FLAG_DOCUMENT_13', 'FLAG_DOCUMENT_14', 'FLAG_DOCUMENT_15', 'FLAG_DOCUMENT_16', 'FLAG_DOCUMENT_17', 'FLAG_DOCUMENT_18', 'FLAG_DOCUMENT_19', 'FLAG_DOCUMENT_20', 'FLAG_DOCUMENT_21', 'NAME_CONTRACT_TYPE_Cash loans', 'NAME_CONTRACT_TYPE_Revolving loans', 'CODE_GENDER_F', 'CODE_GENDER_M', 'CODE_GENDER_XNA', 'FLAG_OWN_CAR_N', 'FLAG_OWN_CAR_Y', 'FLAG_OWN_REALTY_N', 'FLAG_OWN_REALTY_Y', 'NAME_TYPE_SUITE_Children', 'NAME_TYPE_SUITE_Family', 'NAME_TYPE_SUITE_Group of people', 'NAME_TYPE_SUITE_Other_A', 'NAME_TYPE_SUITE_Other_B', 'NAME_TYPE_SUITE_Spouse, partner', 'NAME_TYPE_SUITE_Unaccompanied', 'NAME_INCOME_TYPE_Businessman', 'NAME_INCOME_TYPE_Commercial associate', 'NAME_INCOME_TYPE_Maternity leave', 'NAME_INCOME_TYPE_Pensioner', 'NAME_INCOME_TYPE_State servant', 'NAME_INCOME_TYPE_Student', 'NAME_INCOME_TYPE_Unemployed', 'NAME_INCOME_TYPE_Working', 'NAME_EDUCATION_TYPE_Academic degree', 'NAME_EDUCATION_TYPE_Higher education', 'NAME_EDUCATION_TYPE_Incomplete higher', 'NAME_EDUCATION_TYPE_Lower secondary', 'NAME_EDUCATION_TYPE_Secondary / secondary special', 'NAME_FAMILY_STATUS_Civil marriage', 'NAME_FAMILY_STATUS_Married', 'NAME_FAMILY_STATUS_Separated', 'NAME_FAMILY_STATUS_Single / not married', 'NAME_FAMILY_STATUS_Unknown', 'NAME_FAMILY_STATUS_Widow', 'NAME_HOUSING_TYPE_Co-op apartment', 'NAME_HOUSING_TYPE_House / apartment', 'NAME_HOUSING_TYPE_Municipal apartment', 'NAME_HOUSING_TYPE_Office apartment', 'NAME_HOUSING_TYPE_Rented apartment', 'NAME_HOUSING_TYPE_With parents', 'OCCUPATION_TYPE_Accountants', 'OCCUPATION_TYPE_Cleaning staff', 'OCCUPATION_TYPE_Cooking staff', 'OCCUPATION_TYPE_Core staff', 'OCCUPATION_TYPE_Drivers', 'OCCUPATION_TYPE_HR staff', 'OCCUPATION_TYPE_High skill tech staff', 'OCCUPATION_TYPE_IT staff', 'OCCUPATION_TYPE_Laborers', 'OCCUPATION_TYPE_Low-skill Laborers', 'OCCUPATION_TYPE_Managers', 'OCCUPATION_TYPE_Medicine staff', 'OCCUPATION_TYPE_Private service staff', 'OCCUPATION_TYPE_Realty agents', 'OCCUPATION_TYPE_Sales staff', 'OCCUPATION_TYPE_Secretaries', 'OCCUPATION_TYPE_Security staff', 'OCCUPATION_TYPE_Waiters/barmen staff', 'WEEKDAY_APPR_PROCESS_START_FRIDAY', 'WEEKDAY_APPR_PROCESS_START_MONDAY', 'WEEKDAY_APPR_PROCESS_START_SATURDAY', 'WEEKDAY_APPR_PROCESS_START_SUNDAY', 'WEEKDAY_APPR_PROCESS_START_THURSDAY', 'WEEKDAY_APPR_PROCESS_START_TUESDAY', 'WEEKDAY_APPR_PROCESS_START_WEDNESDAY', 'ORGANIZATION_TYPE_Advertising', 'ORGANIZATION_TYPE_Agriculture', 'ORGANIZATION_TYPE_Bank', 'ORGANIZATION_TYPE_Business Entity Type 1', 'ORGANIZATION_TYPE_Business Entity Type 2', 'ORGANIZATION_TYPE_Business Entity Type 3', 'ORGANIZATION_TYPE_Cleaning', 'ORGANIZATION_TYPE_Construction', 'ORGANIZATION_TYPE_Culture', 'ORGANIZATION_TYPE_Electricity', 'ORGANIZATION_TYPE_Emergency', 'ORGANIZATION_TYPE_Government', 'ORGANIZATION_TYPE_Hotel', 'ORGANIZATION_TYPE_Housing', 'ORGANIZATION_TYPE_Industry: type 1', 'ORGANIZATION_TYPE_Industry: type 10', 'ORGANIZATION_TYPE_Industry: type 11', 'ORGANIZATION_TYPE_Industry: type 12', 'ORGANIZATION_TYPE_Industry: type 13', 'ORGANIZATION_TYPE_Industry: type 2', 'ORGANIZATION_TYPE_Industry: type 3', 'ORGANIZATION_TYPE_Industry: type 4', 'ORGANIZATION_TYPE_Industry: type 5', 'ORGANIZATION_TYPE_Industry: type 6', 'ORGANIZATION_TYPE_Industry: type 7', 'ORGANIZATION_TYPE_Industry: type 8', 'ORGANIZATION_TYPE_Industry: type 9', 'ORGANIZATION_TYPE_Insurance', 'ORGANIZATION_TYPE_Kindergarten', 'ORGANIZATION_TYPE_Legal Services', 'ORGANIZATION_TYPE_Medicine', 'ORGANIZATION_TYPE_Military', 'ORGANIZATION_TYPE_Mobile', 'ORGANIZATION_TYPE_Other', 'ORGANIZATION_TYPE_Police', 'ORGANIZATION_TYPE_Postal', 'ORGANIZATION_TYPE_Realtor', 'ORGANIZATION_TYPE_Religion', 'ORGANIZATION_TYPE_Restaurant', 'ORGANIZATION_TYPE_School', 'ORGANIZATION_TYPE_Security', 'ORGANIZATION_TYPE_Security Ministries', 'ORGANIZATION_TYPE_Self-employed', 'ORGANIZATION_TYPE_Services', 'ORGANIZATION_TYPE_Telecom', 'ORGANIZATION_TYPE_Trade: type 1', 'ORGANIZATION_TYPE_Trade: type 2', 'ORGANIZATION_TYPE_Trade: type 3', 'ORGANIZATION_TYPE_Trade: type 4', 'ORGANIZATION_TYPE_Trade: type 5', 'ORGANIZATION_TYPE_Trade: type 6', 'ORGANIZATION_TYPE_Trade: type 7', 'ORGANIZATION_TYPE_Transport: type 1', 'ORGANIZATION_TYPE_Transport: type 2', 'ORGANIZATION_TYPE_Transport: type 3', 'ORGANIZATION_TYPE_Transport: type 4', 'ORGANIZATION_TYPE_University', 'ORGANIZATION_TYPE_XNA', 'FONDKAPREMONT_MODE_not specified', 'FONDKAPREMONT_MODE_org spec account', 'FONDKAPREMONT_MODE_reg oper account', 'FONDKAPREMONT_MODE_reg oper spec account', 'HOUSETYPE_MODE_block of flats', 'HOUSETYPE_MODE_specific housing', 'HOUSETYPE_MODE_terraced house', 'WALLSMATERIAL_MODE_Block', 'WALLSMATERIAL_MODE_Mixed', 'WALLSMATERIAL_MODE_Monolithic', 'WALLSMATERIAL_MODE_Others', 'WALLSMATERIAL_MODE_Panel', 'WALLSMATERIAL_MODE_Stone, brick', 'WALLSMATERIAL_MODE_Wooden', 'EMERGENCYSTATE_MODE_No', 'EMERGENCYSTATE_MODE_Yes', 'OBS_30_CNT_SOCIAL_CIRCLE', 'DEF_30_CNT_SOCIAL_CIRCLE', 'OBS_60_CNT_SOCIAL_CIRCLE', 'DEF_60_CNT_SOCIAL_CIRCLE', 'AMT_REQ_CREDIT_BUREAU_HOUR', 'AMT_REQ_CREDIT_BUREAU_DAY', 'AMT_REQ_CREDIT_BUREAU_WEEK', 'AMT_REQ_CREDIT_BUREAU_MON', 'AMT_REQ_CREDIT_BUREAU_QRT', 'AMT_REQ_CREDIT_BUREAU_YEAR', 'SK_ID_CURR', 'CNT_CHILDREN', 'AMT_INCOME_TOTAL', 'AMT_CREDIT', 'AMT_ANNUITY', 'AMT_GOODS_PRICE', 'REGION_POPULATION_RELATIVE', 'DAYS_BIRTH', 'DAYS_EMPLOYED', 'DAYS_REGISTRATION', 'DAYS_ID_PUBLISH', 'OWN_CAR_AGE', 'CNT_FAM_MEMBERS', 'REGION_RATING_CLIENT', 'REGION_RATING_CLIENT_W_CITY', 'HOUR_APPR_PROCESS_START', 'EXT_SOURCE_1', 'EXT_SOURCE_2', 'EXT_SOURCE_3', 'DAYS_LAST_PHONE_CHANGE']\nexpected f173, f8, f67, f40, f102, f4, f210, f23, f132, f227, f42, f229, f21, f196, f226, f225, f5, f167, f72, f147, f131, f203, f62, f197, f163, f215, f146, f178, f120, f213, f117, f151, f174, f181, f53, f82, f115, f54, f64, f84, f14, f166, f19, f81, f41, f57, f186, f63, f27, f134, f68, f192, f158, f60, f148, f77, f45, f183, f165, f238, f172, f135, f17, f156, f58, f188, f136, f89, f144, f94, f78, f211, f9, f176, f234, f235, f80, f13, f104, f124, f107, f182, f153, f28, f2, f46, f75, f180, f36, f175, f242, f55, f193, f108, f50, f189, f243, f141, f38, f110, f217, f198, f205, f33, f119, f160, f85, f209, f224, f190, f92, f121, f76, f44, f18, f206, f43, f29, f26, f100, f208, f161, f56, f95, f143, f170, f214, f111, f126, f34, f169, f171, f112, f16, f222, f157, f66, f70, f74, f154, f219, f87, f118, f128, f239, f204, f47, f97, f20, f142, f240, f130, f149, f152, f228, f6, f138, f191, f194, f201, f24, f202, f52, f218, f237, f59, f195, f11, f65, f125, f177, f10, f71, f88, f164, f216, f12, f35, f230, f39, f145, f96, f73, f122, f162, f79, f221, f101, f127, f185, f30, f244, f212, f184, f98, f0, f93, f83, f232, f116, f113, f220, f32, f86, f106, f168, f223, f123, f241, f49, f109, f200, f236, f15, f99, f37, f233, f69, f105, f7, f91, f179, f114, f137, f3, f1, f139, f25, f207, f150, f155, f199, f48, f129, f159, f187, f133, f140, f51, f231, f22, f31, f61, f103, f90 in input data\ntraining data did not have the following fields: WALLSMATERIAL_MODE_Wooden, FLAG_EMP_PHONE, ENTRANCES_AVG, FLOORSMIN_AVG, YEARS_BEGINEXPLUATATION_AVG, FLOORSMIN_MEDI, FLAG_DOCUMENT_2, FLAG_DOCUMENT_14, FLAG_WORK_PHONE, CODE_GENDER_F, LANDAREA_MODE, ORGANIZATION_TYPE_Medicine, ORGANIZATION_TYPE_Housing, NAME_FAMILY_STATUS_Single / not married, FONDKAPREMONT_MODE_not specified, ORGANIZATION_TYPE_Hotel, ORGANIZATION_TYPE_Government, BASEMENTAREA_MODE, EMERGENCYSTATE_MODE_Yes, YEARS_BUILD_MEDI, NAME_INCOME_TYPE_Working, LIVE_REGION_NOT_WORK_REGION, CNT_FAM_MEMBERS, FLAG_MOBIL, ORGANIZATION_TYPE_University, ORGANIZATION_TYPE_Industry: type 11, ORGANIZATION_TYPE_Trade: type 4, DAYS_EMPLOYED, WALLSMATERIAL_MODE_Mixed, ORGANIZATION_TYPE_Emergency, AMT_REQ_CREDIT_BUREAU_MON, AMT_GOODS_PRICE, ORGANIZATION_TYPE_Legal Services, OCCUPATION_TYPE_Laborers, FLAG_DOCUMENT_5, ORGANIZATION_TYPE_Industry: type 9, BASEMENTAREA_MEDI, NONLIVINGAPARTMENTS_MEDI, NAME_INCOME_TYPE_Maternity leave, DEF_30_CNT_SOCIAL_CIRCLE, APARTMENTS_MODE, AMT_CREDIT, ORGANIZATION_TYPE_Trade: type 6, NAME_TYPE_SUITE_Other_A, OCCUPATION_TYPE_Secretaries, FLAG_OWN_CAR_N, ORGANIZATION_TYPE_Industry: type 5, APARTMENTS_AVG, FLAG_DOCUMENT_4, ORGANIZATION_TYPE_Industry: type 7, ORGANIZATION_TYPE_Police, NAME_INCOME_TYPE_State servant, ORGANIZATION_TYPE_Mobile, ORGANIZATION_TYPE_XNA, DAYS_REGISTRATION, FLAG_DOCUMENT_15, WEEKDAY_APPR_PROCESS_START_FRIDAY, ORGANIZATION_TYPE_Military, BASEMENTAREA_AVG, NAME_EDUCATION_TYPE_Lower secondary, CODE_GENDER_XNA, NONLIVINGAREA_AVG, OCCUPATION_TYPE_Private service staff, AMT_REQ_CREDIT_BUREAU_HOUR, WEEKDAY_APPR_PROCESS_START_THURSDAY, ORGANIZATION_TYPE_Business Entity Type 3, LIVINGAPARTMENTS_AVG, FLOORSMAX_MEDI, WEEKDAY_APPR_PROCESS_START_MONDAY, NAME_FAMILY_STATUS_Married, FLOORSMAX_MODE, NAME_CONTRACT_TYPE_Cash loans, CNT_CHILDREN, NAME_FAMILY_STATUS_Widow, LIVINGAREA_MODE, FLAG_OWN_REALTY_Y, FLAG_DOCUMENT_18, FLAG_DOCUMENT_17, ORGANIZATION_TYPE_Telecom, FLAG_DOCUMENT_21, EMERGENCYSTATE_MODE_No, FLAG_OWN_CAR_Y, COMMONAREA_MEDI, FLAG_DOCUMENT_10, ORGANIZATION_TYPE_Culture, NAME_INCOME_TYPE_Businessman, FLAG_DOCUMENT_6, ELEVATORS_MEDI, NAME_TYPE_SUITE_Children, NAME_HOUSING_TYPE_Co-op apartment, REG_CITY_NOT_LIVE_CITY, NAME_EDUCATION_TYPE_Higher education, COMMONAREA_MODE, OCCUPATION_TYPE_High skill tech staff, WEEKDAY_APPR_PROCESS_START_SATURDAY, LIVINGAPARTMENTS_MEDI, HOUSETYPE_MODE_block of flats, FLAG_EMAIL, FLAG_DOCUMENT_13, FLAG_DOCUMENT_9, NAME_HOUSING_TYPE_House / apartment, NAME_FAMILY_STATUS_Separated, NAME_HOUSING_TYPE_Municipal apartment, ORGANIZATION_TYPE_Self-employed, ORGANIZATION_TYPE_Industry: type 6, OCCUPATION_TYPE_Sales staff, YEARS_BUILD_MODE, NAME_INCOME_TYPE_Pensioner, ORGANIZATION_TYPE_Industry: type 13, OBS_60_CNT_SOCIAL_CIRCLE, FLAG_DOCUMENT_7, LANDAREA_MEDI, OCCUPATION_TYPE_Security staff, ELEVATORS_MODE, ORGANIZATION_TYPE_Industry: type 4, APARTMENTS_MEDI, OWN_CAR_AGE, NAME_TYPE_SUITE_Other_B, ORGANIZATION_TYPE_Trade: type 1, NAME_TYPE_SUITE_Unaccompanied, NAME_INCOME_TYPE_Commercial associate, HOUSETYPE_MODE_specific housing, OCCUPATION_TYPE_Waiters/barmen staff, ORGANIZATION_TYPE_Industry: type 2, REGION_POPULATION_RELATIVE, DAYS_LAST_PHONE_CHANGE, LIVINGAREA_MEDI, COMMONAREA_AVG, WALLSMATERIAL_MODE_Block, EXT_SOURCE_1, NONLIVINGAPARTMENTS_AVG, ORGANIZATION_TYPE_Postal, ORGANIZATION_TYPE_Transport: type 3, ORGANIZATION_TYPE_Security Ministries, FLAG_DOCUMENT_11, FLOORSMIN_MODE, ORGANIZATION_TYPE_Kindergarten, HOUSETYPE_MODE_terraced house, NAME_HOUSING_TYPE_Office apartment, WEEKDAY_APPR_PROCESS_START_WEDNESDAY, LIVINGAREA_AVG, OCCUPATION_TYPE_Realty agents, ORGANIZATION_TYPE_Transport: type 1, ORGANIZATION_TYPE_Bank, OCCUPATION_TYPE_Managers, OCCUPATION_TYPE_Drivers, YEARS_BUILD_AVG, ORGANIZATION_TYPE_Trade: type 7, NAME_HOUSING_TYPE_Rented apartment, REGION_RATING_CLIENT, ORGANIZATION_TYPE_Restaurant, OBS_30_CNT_SOCIAL_CIRCLE, LANDAREA_AVG, ORGANIZATION_TYPE_Services, OCCUPATION_TYPE_Cleaning staff, WALLSMATERIAL_MODE_Stone, brick, ELEVATORS_AVG, AMT_INCOME_TOTAL, FLAG_DOCUMENT_8, ORGANIZATION_TYPE_Trade: type 5, FLAG_DOCUMENT_19, SK_ID_CURR, ORGANIZATION_TYPE_Industry: type 12, FLAG_DOCUMENT_3, FONDKAPREMONT_MODE_reg oper account, NAME_EDUCATION_TYPE_Secondary / secondary special, WALLSMATERIAL_MODE_Others, ENTRANCES_MODE, WALLSMATERIAL_MODE_Panel, FLAG_PHONE, AMT_REQ_CREDIT_BUREAU_YEAR, NONLIVINGAPARTMENTS_MODE, NONLIVINGAREA_MEDI, FLAG_CONT_MOBILE, WEEKDAY_APPR_PROCESS_START_TUESDAY, ORGANIZATION_TYPE_Advertising, ORGANIZATION_TYPE_Industry: type 10, ORGANIZATION_TYPE_Industry: type 3, ORGANIZATION_TYPE_Transport: type 2, FLAG_DOCUMENT_16, ORGANIZATION_TYPE_School, FONDKAPREMONT_MODE_reg oper spec account, ENTRANCES_MEDI, WEEKDAY_APPR_PROCESS_START_SUNDAY, DAYS_ID_PUBLISH, EXT_SOURCE_2, ORGANIZATION_TYPE_Business Entity Type 1, WALLSMATERIAL_MODE_Monolithic, FLAG_DOCUMENT_12, AMT_REQ_CREDIT_BUREAU_WEEK, OCCUPATION_TYPE_HR staff, ORGANIZATION_TYPE_Insurance, AMT_ANNUITY, NONLIVINGAREA_MODE, NAME_HOUSING_TYPE_With parents, ORGANIZATION_TYPE_Realtor, ORGANIZATION_TYPE_Industry: type 8, REG_REGION_NOT_WORK_REGION, REGION_RATING_CLIENT_W_CITY, ORGANIZATION_TYPE_Agriculture, ORGANIZATION_TYPE_Religion, NAME_EDUCATION_TYPE_Incomplete higher, NAME_TYPE_SUITE_Family, OCCUPATION_TYPE_IT staff, NAME_FAMILY_STATUS_Unknown, NAME_EDUCATION_TYPE_Academic degree, FLAG_OWN_REALTY_N, CODE_GENDER_M, FLAG_DOCUMENT_20, NAME_TYPE_SUITE_Group of people, AMT_REQ_CREDIT_BUREAU_QRT, NAME_INCOME_TYPE_Student, OCCUPATION_TYPE_Core staff, NAME_FAMILY_STATUS_Civil marriage, EXT_SOURCE_3, REG_REGION_NOT_LIVE_REGION, ORGANIZATION_TYPE_Construction, YEARS_BEGINEXPLUATATION_MODE, NAME_CONTRACT_TYPE_Revolving loans, YEARS_BEGINEXPLUATATION_MEDI, ORGANIZATION_TYPE_Trade: type 2, DEF_60_CNT_SOCIAL_CIRCLE, HOUR_APPR_PROCESS_START, ORGANIZATION_TYPE_Industry: type 1, AMT_REQ_CREDIT_BUREAU_DAY, REG_CITY_NOT_WORK_CITY, ORGANIZATION_TYPE_Business Entity Type 2, ORGANIZATION_TYPE_Cleaning, OCCUPATION_TYPE_Medicine staff, ORGANIZATION_TYPE_Electricity, ORGANIZATION_TYPE_Security, OCCUPATION_TYPE_Cooking staff, OCCUPATION_TYPE_Accountants, LIVE_CITY_NOT_WORK_CITY, ORGANIZATION_TYPE_Other, DAYS_BIRTH, FLOORSMAX_AVG, NAME_TYPE_SUITE_Spouse, partner, LIVINGAPARTMENTS_MODE, OCCUPATION_TYPE_Low-skill Laborers, ORGANIZATION_TYPE_Trade: type 3, FONDKAPREMONT_MODE_org spec account, TOTALAREA_MODE, ORGANIZATION_TYPE_Transport: type 4, NAME_INCOME_TYPE_Unemployed"
     ]
    }
   ],
   "source": [
    "clf2 = XGBClassifier(n_estimators=190, objective='binary:logistic', \n",
    "                    gamma=0.1,subsample=0.5, scale_pos_weight=ratio )\n",
    "clf2.fit(X_train_res,y_train_res)\n",
    "y_pred=clf2.predict(X_test)"
   ]
  },
  {
   "cell_type": "code",
   "execution_count": 15,
   "metadata": {},
   "outputs": [
    {
     "data": {
      "text/plain": [
       "(61503, 245)"
      ]
     },
     "execution_count": 15,
     "metadata": {},
     "output_type": "execute_result"
    }
   ],
   "source": [
    "X_test.shape"
   ]
  },
  {
   "cell_type": "code",
   "execution_count": 16,
   "metadata": {},
   "outputs": [],
   "source": [
    "X_test.columns=['f0', 'f1', 'f2', 'f3', 'f4', 'f5', 'f6', 'f7', 'f8', 'f9', 'f10', 'f11', 'f12', 'f13', 'f14', 'f15', 'f16', 'f17', 'f18', 'f19', 'f20', 'f21', 'f22', 'f23', 'f24', 'f25', 'f26', 'f27', 'f28', 'f29', 'f30', 'f31', 'f32', 'f33', 'f34', 'f35', 'f36', 'f37', 'f38', 'f39', 'f40', 'f41', 'f42', 'f43', 'f44', 'f45', 'f46', 'f47', 'f48', 'f49', 'f50', 'f51', 'f52', 'f53', 'f54', 'f55', 'f56', 'f57', 'f58', 'f59', 'f60', 'f61', 'f62', 'f63', 'f64', 'f65', 'f66', 'f67', 'f68', 'f69', 'f70', 'f71', 'f72', 'f73', 'f74', 'f75', 'f76', 'f77', 'f78', 'f79', 'f80', 'f81', 'f82', 'f83', 'f84', 'f85', 'f86', 'f87', 'f88', 'f89', 'f90', 'f91', 'f92', 'f93', 'f94', 'f95', 'f96', 'f97', 'f98', 'f99', 'f100', 'f101', 'f102', 'f103', 'f104', 'f105', 'f106', 'f107', 'f108', 'f109', 'f110', 'f111', 'f112', 'f113', 'f114', 'f115', 'f116', 'f117', 'f118', 'f119', 'f120', 'f121', 'f122', 'f123', 'f124', 'f125', 'f126', 'f127', 'f128', 'f129', 'f130', 'f131', 'f132', 'f133', 'f134', 'f135', 'f136', 'f137', 'f138', 'f139', 'f140', 'f141', 'f142', 'f143', 'f144', 'f145', 'f146', 'f147', 'f148', 'f149', 'f150', 'f151', 'f152', 'f153', 'f154', 'f155', 'f156', 'f157', 'f158', 'f159', 'f160', 'f161', 'f162', 'f163', 'f164', 'f165', 'f166', 'f167', 'f168', 'f169', 'f170', 'f171', 'f172', 'f173', 'f174', 'f175', 'f176', 'f177', 'f178', 'f179', 'f180', 'f181', 'f182', 'f183', 'f184', 'f185', 'f186', 'f187', 'f188', 'f189', 'f190', 'f191', 'f192', 'f193', 'f194', 'f195', 'f196', 'f197', 'f198', 'f199', 'f200', 'f201', 'f202', 'f203', 'f204', 'f205', 'f206', 'f207', 'f208', 'f209', 'f210', 'f211', 'f212', 'f213', 'f214', 'f215', 'f216', 'f217', 'f218', 'f219', 'f220', 'f221', 'f222', 'f223', 'f224', 'f225', 'f226', 'f227', 'f228', 'f229', 'f230', 'f231', 'f232', 'f233', 'f234', 'f235', 'f236', 'f237', 'f238', 'f239', 'f240', 'f241', 'f242', 'f243', 'f244']"
   ]
  },
  {
   "cell_type": "code",
   "execution_count": 17,
   "metadata": {},
   "outputs": [
    {
     "name": "stderr",
     "output_type": "stream",
     "text": [
      "C:\\ProgramData\\Anaconda3\\lib\\site-packages\\sklearn\\preprocessing\\label.py:151: DeprecationWarning: The truth value of an empty array is ambiguous. Returning False, but in future this will result in an error. Use `array.size > 0` to check that an array is not empty.\n",
      "  if diff:\n"
     ]
    }
   ],
   "source": [
    "y_pred=clf2.predict(X_test)"
   ]
  },
  {
   "cell_type": "code",
   "execution_count": null,
   "metadata": {},
   "outputs": [],
   "source": []
  },
  {
   "cell_type": "code",
   "execution_count": 18,
   "metadata": {},
   "outputs": [
    {
     "data": {
      "text/plain": [
       "0.0    38343\n",
       "1.0    23160\n",
       "Name: 0, dtype: int64"
      ]
     },
     "execution_count": 18,
     "metadata": {},
     "output_type": "execute_result"
    }
   ],
   "source": [
    "newdf=pd.DataFrame(data=y_pred)\n",
    "newdf.iloc[:,0].value_counts()"
   ]
  },
  {
   "cell_type": "code",
   "execution_count": 19,
   "metadata": {},
   "outputs": [
    {
     "name": "stdout",
     "output_type": "stream",
     "text": [
      "             precision    recall  f1-score   support\n",
      "\n",
      "        0.0       0.96      0.65      0.78     56538\n",
      "        1.0       0.15      0.72      0.25      4965\n",
      "\n",
      "avg / total       0.90      0.66      0.74     61503\n",
      "\n"
     ]
    }
   ],
   "source": [
    "print(classification_report(y_test, y_pred))"
   ]
  },
  {
   "cell_type": "code",
   "execution_count": 20,
   "metadata": {},
   "outputs": [
    {
     "data": {
      "text/plain": [
       "array([[36928, 19610],\n",
       "       [ 1415,  3550]], dtype=int64)"
      ]
     },
     "execution_count": 20,
     "metadata": {},
     "output_type": "execute_result"
    }
   ],
   "source": [
    "confusion_matrix(y_test, y_pred)"
   ]
  },
  {
   "cell_type": "code",
   "execution_count": 22,
   "metadata": {},
   "outputs": [],
   "source": [
    "import seaborn as sns\n",
    "top40 = pd.DataFrame({'features': X_train.columns, 'importance': clf2.feature_importances_}).sort_values('importance', ascending=False).head(40)\n",
    "# sns.barplot(x=top50['importance'], y=top50['features'])"
   ]
  },
  {
   "cell_type": "code",
   "execution_count": 23,
   "metadata": {},
   "outputs": [
    {
     "data": {
      "text/html": [
       "<div>\n",
       "<style scoped>\n",
       "    .dataframe tbody tr th:only-of-type {\n",
       "        vertical-align: middle;\n",
       "    }\n",
       "\n",
       "    .dataframe tbody tr th {\n",
       "        vertical-align: top;\n",
       "    }\n",
       "\n",
       "    .dataframe thead th {\n",
       "        text-align: right;\n",
       "    }\n",
       "</style>\n",
       "<table border=\"1\" class=\"dataframe\">\n",
       "  <thead>\n",
       "    <tr style=\"text-align: right;\">\n",
       "      <th></th>\n",
       "      <th>features</th>\n",
       "      <th>importance</th>\n",
       "    </tr>\n",
       "  </thead>\n",
       "  <tbody>\n",
       "    <tr>\n",
       "      <th>243</th>\n",
       "      <td>EXT_SOURCE_3</td>\n",
       "      <td>0.091765</td>\n",
       "    </tr>\n",
       "    <tr>\n",
       "      <th>242</th>\n",
       "      <td>EXT_SOURCE_2</td>\n",
       "      <td>0.069020</td>\n",
       "    </tr>\n",
       "    <tr>\n",
       "      <th>98</th>\n",
       "      <td>NAME_INCOME_TYPE_Working</td>\n",
       "      <td>0.056471</td>\n",
       "    </tr>\n",
       "    <tr>\n",
       "      <th>241</th>\n",
       "      <td>EXT_SOURCE_1</td>\n",
       "      <td>0.046275</td>\n",
       "    </tr>\n",
       "    <tr>\n",
       "      <th>228</th>\n",
       "      <td>AMT_CREDIT</td>\n",
       "      <td>0.035294</td>\n",
       "    </tr>\n",
       "    <tr>\n",
       "      <th>233</th>\n",
       "      <td>DAYS_EMPLOYED</td>\n",
       "      <td>0.028235</td>\n",
       "    </tr>\n",
       "    <tr>\n",
       "      <th>4</th>\n",
       "      <td>FLAG_PHONE</td>\n",
       "      <td>0.027451</td>\n",
       "    </tr>\n",
       "    <tr>\n",
       "      <th>77</th>\n",
       "      <td>CODE_GENDER_F</td>\n",
       "      <td>0.021961</td>\n",
       "    </tr>\n",
       "    <tr>\n",
       "      <th>103</th>\n",
       "      <td>NAME_EDUCATION_TYPE_Secondary / secondary special</td>\n",
       "      <td>0.021176</td>\n",
       "    </tr>\n",
       "    <tr>\n",
       "      <th>100</th>\n",
       "      <td>NAME_EDUCATION_TYPE_Higher education</td>\n",
       "      <td>0.021176</td>\n",
       "    </tr>\n",
       "    <tr>\n",
       "      <th>82</th>\n",
       "      <td>FLAG_OWN_REALTY_N</td>\n",
       "      <td>0.018824</td>\n",
       "    </tr>\n",
       "    <tr>\n",
       "      <th>94</th>\n",
       "      <td>NAME_INCOME_TYPE_Pensioner</td>\n",
       "      <td>0.018824</td>\n",
       "    </tr>\n",
       "    <tr>\n",
       "      <th>230</th>\n",
       "      <td>AMT_GOODS_PRICE</td>\n",
       "      <td>0.018039</td>\n",
       "    </tr>\n",
       "    <tr>\n",
       "      <th>235</th>\n",
       "      <td>DAYS_ID_PUBLISH</td>\n",
       "      <td>0.017255</td>\n",
       "    </tr>\n",
       "    <tr>\n",
       "      <th>229</th>\n",
       "      <td>AMT_ANNUITY</td>\n",
       "      <td>0.017255</td>\n",
       "    </tr>\n",
       "    <tr>\n",
       "      <th>232</th>\n",
       "      <td>DAYS_BIRTH</td>\n",
       "      <td>0.016471</td>\n",
       "    </tr>\n",
       "    <tr>\n",
       "      <th>105</th>\n",
       "      <td>NAME_FAMILY_STATUS_Married</td>\n",
       "      <td>0.014118</td>\n",
       "    </tr>\n",
       "    <tr>\n",
       "      <th>244</th>\n",
       "      <td>DAYS_LAST_PHONE_CHANGE</td>\n",
       "      <td>0.014118</td>\n",
       "    </tr>\n",
       "    <tr>\n",
       "      <th>56</th>\n",
       "      <td>FLAG_DOCUMENT_3</td>\n",
       "      <td>0.014118</td>\n",
       "    </tr>\n",
       "    <tr>\n",
       "      <th>80</th>\n",
       "      <td>FLAG_OWN_CAR_N</td>\n",
       "      <td>0.014118</td>\n",
       "    </tr>\n",
       "    <tr>\n",
       "      <th>210</th>\n",
       "      <td>WALLSMATERIAL_MODE_Panel</td>\n",
       "      <td>0.014118</td>\n",
       "    </tr>\n",
       "    <tr>\n",
       "      <th>215</th>\n",
       "      <td>OBS_30_CNT_SOCIAL_CIRCLE</td>\n",
       "      <td>0.014118</td>\n",
       "    </tr>\n",
       "    <tr>\n",
       "      <th>238</th>\n",
       "      <td>REGION_RATING_CLIENT</td>\n",
       "      <td>0.014118</td>\n",
       "    </tr>\n",
       "    <tr>\n",
       "      <th>213</th>\n",
       "      <td>EMERGENCYSTATE_MODE_No</td>\n",
       "      <td>0.012549</td>\n",
       "    </tr>\n",
       "    <tr>\n",
       "      <th>90</th>\n",
       "      <td>NAME_TYPE_SUITE_Unaccompanied</td>\n",
       "      <td>0.011765</td>\n",
       "    </tr>\n",
       "    <tr>\n",
       "      <th>216</th>\n",
       "      <td>DEF_30_CNT_SOCIAL_CIRCLE</td>\n",
       "      <td>0.011765</td>\n",
       "    </tr>\n",
       "    <tr>\n",
       "      <th>211</th>\n",
       "      <td>WALLSMATERIAL_MODE_Stone, brick</td>\n",
       "      <td>0.011765</td>\n",
       "    </tr>\n",
       "    <tr>\n",
       "      <th>226</th>\n",
       "      <td>CNT_CHILDREN</td>\n",
       "      <td>0.011765</td>\n",
       "    </tr>\n",
       "    <tr>\n",
       "      <th>223</th>\n",
       "      <td>AMT_REQ_CREDIT_BUREAU_QRT</td>\n",
       "      <td>0.010980</td>\n",
       "    </tr>\n",
       "    <tr>\n",
       "      <th>78</th>\n",
       "      <td>CODE_GENDER_M</td>\n",
       "      <td>0.010196</td>\n",
       "    </tr>\n",
       "    <tr>\n",
       "      <th>2</th>\n",
       "      <td>FLAG_WORK_PHONE</td>\n",
       "      <td>0.010196</td>\n",
       "    </tr>\n",
       "    <tr>\n",
       "      <th>1</th>\n",
       "      <td>FLAG_EMP_PHONE</td>\n",
       "      <td>0.010196</td>\n",
       "    </tr>\n",
       "    <tr>\n",
       "      <th>10</th>\n",
       "      <td>REG_CITY_NOT_WORK_CITY</td>\n",
       "      <td>0.009412</td>\n",
       "    </tr>\n",
       "    <tr>\n",
       "      <th>59</th>\n",
       "      <td>FLAG_DOCUMENT_6</td>\n",
       "      <td>0.009412</td>\n",
       "    </tr>\n",
       "    <tr>\n",
       "      <th>146</th>\n",
       "      <td>ORGANIZATION_TYPE_Business Entity Type 3</td>\n",
       "      <td>0.009412</td>\n",
       "    </tr>\n",
       "    <tr>\n",
       "      <th>236</th>\n",
       "      <td>OWN_CAR_AGE</td>\n",
       "      <td>0.008627</td>\n",
       "    </tr>\n",
       "    <tr>\n",
       "      <th>203</th>\n",
       "      <td>HOUSETYPE_MODE_block of flats</td>\n",
       "      <td>0.008627</td>\n",
       "    </tr>\n",
       "    <tr>\n",
       "      <th>111</th>\n",
       "      <td>NAME_HOUSING_TYPE_House / apartment</td>\n",
       "      <td>0.008627</td>\n",
       "    </tr>\n",
       "    <tr>\n",
       "      <th>239</th>\n",
       "      <td>REGION_RATING_CLIENT_W_CITY</td>\n",
       "      <td>0.007843</td>\n",
       "    </tr>\n",
       "    <tr>\n",
       "      <th>218</th>\n",
       "      <td>DEF_60_CNT_SOCIAL_CIRCLE</td>\n",
       "      <td>0.007843</td>\n",
       "    </tr>\n",
       "  </tbody>\n",
       "</table>\n",
       "</div>"
      ],
      "text/plain": [
       "                                              features  importance\n",
       "243                                       EXT_SOURCE_3    0.091765\n",
       "242                                       EXT_SOURCE_2    0.069020\n",
       "98                            NAME_INCOME_TYPE_Working    0.056471\n",
       "241                                       EXT_SOURCE_1    0.046275\n",
       "228                                         AMT_CREDIT    0.035294\n",
       "233                                      DAYS_EMPLOYED    0.028235\n",
       "4                                           FLAG_PHONE    0.027451\n",
       "77                                       CODE_GENDER_F    0.021961\n",
       "103  NAME_EDUCATION_TYPE_Secondary / secondary special    0.021176\n",
       "100               NAME_EDUCATION_TYPE_Higher education    0.021176\n",
       "82                                   FLAG_OWN_REALTY_N    0.018824\n",
       "94                          NAME_INCOME_TYPE_Pensioner    0.018824\n",
       "230                                    AMT_GOODS_PRICE    0.018039\n",
       "235                                    DAYS_ID_PUBLISH    0.017255\n",
       "229                                        AMT_ANNUITY    0.017255\n",
       "232                                         DAYS_BIRTH    0.016471\n",
       "105                         NAME_FAMILY_STATUS_Married    0.014118\n",
       "244                             DAYS_LAST_PHONE_CHANGE    0.014118\n",
       "56                                     FLAG_DOCUMENT_3    0.014118\n",
       "80                                      FLAG_OWN_CAR_N    0.014118\n",
       "210                           WALLSMATERIAL_MODE_Panel    0.014118\n",
       "215                           OBS_30_CNT_SOCIAL_CIRCLE    0.014118\n",
       "238                               REGION_RATING_CLIENT    0.014118\n",
       "213                             EMERGENCYSTATE_MODE_No    0.012549\n",
       "90                       NAME_TYPE_SUITE_Unaccompanied    0.011765\n",
       "216                           DEF_30_CNT_SOCIAL_CIRCLE    0.011765\n",
       "211                    WALLSMATERIAL_MODE_Stone, brick    0.011765\n",
       "226                                       CNT_CHILDREN    0.011765\n",
       "223                          AMT_REQ_CREDIT_BUREAU_QRT    0.010980\n",
       "78                                       CODE_GENDER_M    0.010196\n",
       "2                                      FLAG_WORK_PHONE    0.010196\n",
       "1                                       FLAG_EMP_PHONE    0.010196\n",
       "10                              REG_CITY_NOT_WORK_CITY    0.009412\n",
       "59                                     FLAG_DOCUMENT_6    0.009412\n",
       "146           ORGANIZATION_TYPE_Business Entity Type 3    0.009412\n",
       "236                                        OWN_CAR_AGE    0.008627\n",
       "203                      HOUSETYPE_MODE_block of flats    0.008627\n",
       "111                NAME_HOUSING_TYPE_House / apartment    0.008627\n",
       "239                        REGION_RATING_CLIENT_W_CITY    0.007843\n",
       "218                           DEF_60_CNT_SOCIAL_CIRCLE    0.007843"
      ]
     },
     "execution_count": 23,
     "metadata": {},
     "output_type": "execute_result"
    }
   ],
   "source": [
    "top40"
   ]
  },
  {
   "cell_type": "code",
   "execution_count": 10,
   "metadata": {},
   "outputs": [
    {
     "name": "stderr",
     "output_type": "stream",
     "text": [
      "C:\\ProgramData\\Anaconda3\\lib\\site-packages\\sklearn\\preprocessing\\label.py:151: DeprecationWarning: The truth value of an empty array is ambiguous. Returning False, but in future this will result in an error. Use `array.size > 0` to check that an array is not empty.\n",
      "  if diff:\n"
     ]
    }
   ],
   "source": [
    "clf4 = XGBClassifier(n_estimators=180, objective='binary:logistic',\n",
    "                    gamma=0.1, subsample=0.5, scale_pos_weight=ratio )\n",
    "clf4.fit(X_train, y_train)\n",
    "# clf3.fit(X_train,y_train)\n",
    "y_pred=clf4.predict(X_test)"
   ]
  },
  {
   "cell_type": "code",
   "execution_count": 12,
   "metadata": {},
   "outputs": [
    {
     "data": {
      "text/plain": [
       "0.0    40885\n",
       "1.0    20618\n",
       "Name: 0, dtype: int64"
      ]
     },
     "execution_count": 12,
     "metadata": {},
     "output_type": "execute_result"
    }
   ],
   "source": [
    "newdf=pd.DataFrame(data=y_pred)\n",
    "newdf.iloc[:,0].value_counts()"
   ]
  },
  {
   "cell_type": "code",
   "execution_count": 13,
   "metadata": {},
   "outputs": [
    {
     "name": "stdout",
     "output_type": "stream",
     "text": [
      "             precision    recall  f1-score   support\n",
      "\n",
      "        0.0       0.96      0.70      0.81     56538\n",
      "        1.0       0.17      0.69      0.27      4965\n",
      "\n",
      "avg / total       0.90      0.70      0.76     61503\n",
      "\n"
     ]
    }
   ],
   "source": [
    "\n",
    "print(classification_report(y_test, y_pred))"
   ]
  },
  {
   "cell_type": "code",
   "execution_count": 15,
   "metadata": {},
   "outputs": [
    {
     "data": {
      "text/plain": [
       "array([[39346, 17192],\n",
       "       [ 1539,  3426]], dtype=int64)"
      ]
     },
     "execution_count": 15,
     "metadata": {},
     "output_type": "execute_result"
    }
   ],
   "source": [
    "confusion_matrix(y_test, y_pred)"
   ]
  },
  {
   "cell_type": "code",
   "execution_count": null,
   "metadata": {},
   "outputs": [],
   "source": []
  },
  {
   "cell_type": "code",
   "execution_count": null,
   "metadata": {},
   "outputs": [],
   "source": []
  },
  {
   "cell_type": "code",
   "execution_count": null,
   "metadata": {},
   "outputs": [],
   "source": []
  },
  {
   "cell_type": "code",
   "execution_count": null,
   "metadata": {},
   "outputs": [],
   "source": []
  },
  {
   "cell_type": "code",
   "execution_count": null,
   "metadata": {},
   "outputs": [],
   "source": []
  },
  {
   "cell_type": "code",
   "execution_count": null,
   "metadata": {},
   "outputs": [],
   "source": []
  },
  {
   "cell_type": "code",
   "execution_count": null,
   "metadata": {},
   "outputs": [],
   "source": []
  },
  {
   "cell_type": "code",
   "execution_count": null,
   "metadata": {},
   "outputs": [],
   "source": []
  },
  {
   "cell_type": "code",
   "execution_count": null,
   "metadata": {},
   "outputs": [],
   "source": []
  },
  {
   "cell_type": "code",
   "execution_count": null,
   "metadata": {},
   "outputs": [],
   "source": []
  },
  {
   "cell_type": "code",
   "execution_count": null,
   "metadata": {},
   "outputs": [],
   "source": []
  },
  {
   "cell_type": "code",
   "execution_count": null,
   "metadata": {},
   "outputs": [],
   "source": []
  },
  {
   "cell_type": "code",
   "execution_count": null,
   "metadata": {},
   "outputs": [],
   "source": []
  },
  {
   "cell_type": "code",
   "execution_count": null,
   "metadata": {},
   "outputs": [],
   "source": []
  },
  {
   "cell_type": "code",
   "execution_count": null,
   "metadata": {},
   "outputs": [],
   "source": []
  },
  {
   "cell_type": "code",
   "execution_count": null,
   "metadata": {},
   "outputs": [],
   "source": []
  },
  {
   "cell_type": "code",
   "execution_count": null,
   "metadata": {},
   "outputs": [],
   "source": []
  }
 ],
 "metadata": {
  "kernelspec": {
   "display_name": "Python 3",
   "language": "python",
   "name": "python3"
  },
  "language_info": {
   "codemirror_mode": {
    "name": "ipython",
    "version": 3
   },
   "file_extension": ".py",
   "mimetype": "text/x-python",
   "name": "python",
   "nbconvert_exporter": "python",
   "pygments_lexer": "ipython3",
   "version": "3.7.0"
  }
 },
 "nbformat": 4,
 "nbformat_minor": 2
}
